{
 "cells": [
  {
   "cell_type": "markdown",
   "id": "fc5e9670",
   "metadata": {},
   "source": [
    "## 1.Prompt Chaining"
   ]
  },
  {
   "cell_type": "markdown",
   "id": "bf08abb4",
   "metadata": {},
   "source": [
    "<img style=\"float: right;\" src=\"../img/flex-logo.png\" width=\"120\"><br>"
   ]
  },
  {
   "cell_type": "markdown",
   "id": "0ae315a2",
   "metadata": {},
   "source": [
    "<div style=\"text-align: right\"> <b>your name</b></div>\n",
    "<div style=\"text-align: right\"> Initial issue : 2025.10.02 </div>\n",
    "<div style=\"text-align: right\"> last update : 2025.10.02 </div>"
   ]
  },
  {
   "cell_type": "markdown",
   "id": "c33149ca",
   "metadata": {},
   "source": [
    "개정 이력  \n",
    "- `2025.10.02` : 노트북 "
   ]
  },
  {
   "cell_type": "code",
   "execution_count": 1,
   "id": "d65f19f2",
   "metadata": {},
   "outputs": [
    {
     "data": {
      "text/plain": [
       "True"
      ]
     },
     "execution_count": 1,
     "metadata": {},
     "output_type": "execute_result"
    }
   ],
   "source": [
    "import os\n",
    "from dotenv import load_dotenv\n",
    "load_dotenv()"
   ]
  },
  {
   "cell_type": "code",
   "execution_count": 2,
   "id": "aa3a71df",
   "metadata": {},
   "outputs": [],
   "source": [
    "import os\n",
    "from langchain_openai import ChatOpenAI\n",
    "from langchain_core.prompts import ChatPromptTemplate\n",
    "from langchain_core.output_parsers import StrOutputParser"
   ]
  },
  {
   "cell_type": "code",
   "execution_count": 3,
   "id": "c0b614b9",
   "metadata": {},
   "outputs": [],
   "source": [
    "llm = ChatOpenAI(model=\"gpt-4o-mini\", temperature=0)"
   ]
  },
  {
   "cell_type": "markdown",
   "id": "8b114948",
   "metadata": {},
   "source": [
    "1. 정보 추출"
   ]
  },
  {
   "cell_type": "code",
   "execution_count": 4,
   "id": "c1a633e7",
   "metadata": {},
   "outputs": [],
   "source": [
    "prompt_extract = ChatPromptTemplate.from_template(\n",
    "    \"\"\"\n",
    "    다음 문서에서 기술 사양을 추출해주세요:\\n\\n\n",
    "\n",
    "    {text_input}\n",
    "    \"\"\"\n",
    ")"
   ]
  },
  {
   "cell_type": "markdown",
   "id": "8460b6d0",
   "metadata": {},
   "source": [
    "\n",
    "2. Json으로 변환"
   ]
  },
  {
   "cell_type": "code",
   "execution_count": 5,
   "id": "97097c29",
   "metadata": {},
   "outputs": [],
   "source": [
    "prompt_transform = ChatPromptTemplate.from_template(\n",
    "    \"\"\"\n",
    "    다음 사양을 \"cpu\", \"memory\", \"Storage\" 키를 가지는 JSON object로 변환하세요.:\\n\\n\n",
    "\n",
    "    {specification}\n",
    "    \"\"\"\n",
    ")"
   ]
  },
  {
   "cell_type": "markdown",
   "id": "09293bfc",
   "metadata": {},
   "source": [
    "3. spec 추출 체인 생성"
   ]
  },
  {
   "cell_type": "code",
   "execution_count": 6,
   "id": "58fcf884",
   "metadata": {},
   "outputs": [],
   "source": [
    "extraction_chain= prompt_extract | llm | StrOutputParser()"
   ]
  },
  {
   "cell_type": "markdown",
   "id": "c8b58851",
   "metadata": {},
   "source": [
    "4. full chain 생성"
   ]
  },
  {
   "cell_type": "code",
   "execution_count": 7,
   "id": "91fa95dd",
   "metadata": {},
   "outputs": [],
   "source": [
    "full_chain = (\n",
    "    {\"specification\": extraction_chain}\n",
    "    | prompt_transform\n",
    "    | llm\n",
    "    | StrOutputParser()\n",
    ")"
   ]
  },
  {
   "cell_type": "markdown",
   "id": "f6c186cc",
   "metadata": {},
   "source": [
    "5. 테스트"
   ]
  },
  {
   "cell_type": "code",
   "execution_count": 8,
   "id": "46803039",
   "metadata": {},
   "outputs": [],
   "source": [
    "input_text = \"The new laptop model features a 3.5 GHz octa-core processor, 16GB of RAM, and a 1TB NVMe SSD.\""
   ]
  },
  {
   "cell_type": "code",
   "execution_count": 9,
   "id": "9f5cd571",
   "metadata": {},
   "outputs": [
    {
     "name": "stdout",
     "output_type": "stream",
     "text": [
      "다음은 요청하신 사양을 JSON 객체로 변환한 것입니다:\n",
      "\n",
      "```json\n",
      "{\n",
      "    \"cpu\": \"3.5 GHz 옥타코어\",\n",
      "    \"memory\": \"16GB\",\n",
      "    \"storage\": \"1TB NVMe SSD\"\n",
      "}\n",
      "```\n"
     ]
    }
   ],
   "source": [
    "final_result = full_chain.invoke({\"text_input\": input_text})\n",
    "\n",
    "print(final_result)"
   ]
  },
  {
   "cell_type": "code",
   "execution_count": null,
   "id": "8dbf1cde",
   "metadata": {},
   "outputs": [],
   "source": []
  }
 ],
 "metadata": {
  "kernelspec": {
   "display_name": ".venv",
   "language": "python",
   "name": "python3"
  },
  "language_info": {
   "codemirror_mode": {
    "name": "ipython",
    "version": 3
   },
   "file_extension": ".py",
   "mimetype": "text/x-python",
   "name": "python",
   "nbconvert_exporter": "python",
   "pygments_lexer": "ipython3",
   "version": "3.12.9"
  }
 },
 "nbformat": 4,
 "nbformat_minor": 5
}
