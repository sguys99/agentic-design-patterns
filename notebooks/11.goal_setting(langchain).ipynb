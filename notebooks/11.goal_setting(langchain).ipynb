{
 "cells": [
  {
   "cell_type": "markdown",
   "id": "fc5e9670",
   "metadata": {},
   "source": [
    "## 11. Goal setting and monitoring"
   ]
  },
  {
   "cell_type": "markdown",
   "id": "bf08abb4",
   "metadata": {},
   "source": [
    "<img style=\"float: right;\" src=\"../img/flex-logo.png\" width=\"120\"><br>"
   ]
  },
  {
   "cell_type": "markdown",
   "id": "0ae315a2",
   "metadata": {},
   "source": [
    "<div style=\"text-align: right\"> <b>your name</b></div>\n",
    "<div style=\"text-align: right\"> Initial issue : 2025.10.02 </div>\n",
    "<div style=\"text-align: right\"> last update : 2025.10.02 </div>"
   ]
  },
  {
   "cell_type": "markdown",
   "id": "c33149ca",
   "metadata": {},
   "source": [
    "개정 이력  \n",
    "- `2025.10.02` : 노트북 "
   ]
  },
  {
   "cell_type": "code",
   "execution_count": 1,
   "id": "d65f19f2",
   "metadata": {},
   "outputs": [
    {
     "data": {
      "text/plain": [
       "True"
      ]
     },
     "execution_count": 1,
     "metadata": {},
     "output_type": "execute_result"
    }
   ],
   "source": [
    "import os\n",
    "from dotenv import load_dotenv\n",
    "load_dotenv()"
   ]
  },
  {
   "cell_type": "code",
   "execution_count": 2,
   "id": "aa3a71df",
   "metadata": {},
   "outputs": [],
   "source": [
    "import os\n",
    "import random\n",
    "import re\n",
    "from pathlib import Path\n",
    "from langchain_openai import ChatOpenAI\n",
    "from dotenv import load_dotenv, find_dotenv"
   ]
  },
  {
   "cell_type": "code",
   "execution_count": 3,
   "id": "b9ccc928",
   "metadata": {},
   "outputs": [],
   "source": [
    "llm = ChatOpenAI(\n",
    "   model=\"gpt-4o\", # got-4o에 액세스할 수 없으면 다른 OpenAI LLM 사용\n",
    "   temperature=0.3,\n",
    ")"
   ]
  },
  {
   "cell_type": "markdown",
   "id": "d004626d",
   "metadata": {},
   "source": [
    "### 1. 유틸리티 함수"
   ]
  },
  {
   "cell_type": "code",
   "execution_count": 4,
   "id": "47e75ec0",
   "metadata": {},
   "outputs": [],
   "source": [
    "def generate_prompt(\n",
    "   use_case: str, goals: list[str], previous_code: str = \"\", feedback: str = \"\"\n",
    ") -> str:\n",
    "   print(\"📝 코드 생성을 위한 프롬프트 구성 중...\")\n",
    "   base_prompt = f\"\"\"\n",
    "You are an AI coding agent. Your job is to write Python code based on the following use case:\n",
    "Use Case: {use_case}\n",
    "Your goals are:\n",
    "{chr(10).join(f\"- {g.strip()}\" for g in goals)}\n",
    "\"\"\"\n",
    "   if previous_code:\n",
    "       print(\"🔄 개선을 위해 이전 코드를 프롬프트에 추가.\")\n",
    "       base_prompt += f\"\\nPreviously generated code:\\n{previous_code}\"\n",
    "   if feedback:\n",
    "       print(\"📋 수정을 위한 피드백 포함.\")\n",
    "       base_prompt += f\"\\nFeedback on previous version:\\n{feedback}\\n\"\n",
    "   base_prompt += \"\\nPlease return only the revised Python code. Do not include comments or explanations outside the code.\"\n",
    "   return base_prompt\n",
    "def get_code_feedback(code: str, goals: list[str]) -> str:\n",
    "   print(\"🔍 목표에 대한 코드 평가 중...\")\n",
    "   feedback_prompt = f\"\"\"\n",
    "You are a Python code reviewer. A code snippet is shown below. Based on the following goals:\n",
    "{chr(10).join(f\"- {g.strip()}\" for g in goals)}\n",
    "Please critique this code and identify if the goals are met. Mention if improvements are needed for clarity, simplicity, correctness, edge case handling, or test coverage.\n",
    "Code:\n",
    "{code}\n",
    "\"\"\"\n",
    "   return llm.invoke(feedback_prompt)"
   ]
  },
  {
   "cell_type": "code",
   "execution_count": 5,
   "id": "ad0ae0c6",
   "metadata": {},
   "outputs": [],
   "source": [
    "def goals_met(feedback_text: str, goals: list[str]) -> bool:\n",
    "   \"\"\"\n",
    "   피드백 텍스트에 기반하여 목표가 충족되었는지 평가하기 위해 LLM을 사용합니다.\n",
    "   True 또는 False를 반환합니다 (LLM 출력에서 파싱됨).\n",
    "   \"\"\"\n",
    "   review_prompt = f\"\"\"\n",
    "You are an AI reviewer.\n",
    "Here are the goals:\n",
    "{chr(10).join(f\"- {g.strip()}\" for g in goals)}\n",
    "Here is the feedback on the code:\n",
    "{feedback_text}\n",
    "Based on the feedback above, have the goals been met?\n",
    "Respond with only one word: True or False.\n",
    "\"\"\"\n",
    "   response = llm.invoke(review_prompt).content.strip().lower()\n",
    "   return response == \"true\""
   ]
  },
  {
   "cell_type": "code",
   "execution_count": 6,
   "id": "b3832661",
   "metadata": {},
   "outputs": [],
   "source": [
    "def clean_code_block(code: str) -> str:\n",
    "   lines = code.strip().splitlines()\n",
    "   if lines and lines[0].strip().startswith(\"```\"):\n",
    "       lines = lines[1:]\n",
    "   if lines and lines[-1].strip() == \"```\":\n",
    "       lines = lines[:-1]\n",
    "   return \"\\n\".join(lines).strip()"
   ]
  },
  {
   "cell_type": "code",
   "execution_count": 7,
   "id": "0d298963",
   "metadata": {},
   "outputs": [],
   "source": [
    "def add_comment_header(code: str, use_case: str) -> str:\n",
    "   comment = f\"# This Python program implements the following use case:\\n# {use_case.strip()}\\n\"\n",
    "   return comment + \"\\n\" + code\n",
    "def to_snake_case(text: str) -> str:\n",
    "   text = re.sub(r\"[^a-zA-Z0-9 ]\", \"\", text)\n",
    "   return re.sub(r\"\\s+\", \"_\", text.strip().lower())\n",
    "def save_code_to_file(code: str, use_case: str) -> str:\n",
    "   print(\"💾 최종 코드를 파일에 저장 중...\")\n",
    "   summary_prompt = (\n",
    "       f\"Summarize the following use case into a single lowercase word or phrase, \"\n",
    "       f\"no more than 10 characters, suitable for a Python filename:\\n\\n{use_case}\"\n",
    "   )\n",
    "   raw_summary = llm.invoke(summary_prompt).content.strip()\n",
    "   short_name = re.sub(r\"[^a-zA-Z0-9_]\", \"\", raw_summary.replace(\" \", \"_\").lower())[:10]\n",
    "   random_suffix = str(random.randint(1000, 9999))\n",
    "   filename = f\"{short_name}_{random_suffix}.py\"\n",
    "   filepath = Path.cwd() / filename\n",
    "   with open(filepath, \"w\") as f:\n",
    "       f.write(code)\n",
    "   print(f\"✅ 코드가 다음에 저장됨: {filepath}\")\n",
    "   return str(filepath)"
   ]
  },
  {
   "cell_type": "code",
   "execution_count": 8,
   "id": "44552658",
   "metadata": {},
   "outputs": [],
   "source": [
    "def run_code_agent(use_case: str, goals_input: str, max_iterations: int = 5) -> str:\n",
    "   goals = [g.strip() for g in goals_input.split(\",\")]\n",
    "   print(f\"\\n🎯 사용 사례: {use_case}\")\n",
    "   print(\"🎯 목표:\")\n",
    "   for g in goals:\n",
    "       print(f\"  - {g}\")\n",
    "   previous_code = \"\"\n",
    "   feedback = \"\"\n",
    "   for i in range(max_iterations):\n",
    "       print(f\"\\n=== 🔁 {max_iterations} 중 {i + 1}회 반복 ===\")\n",
    "       prompt = generate_prompt(use_case, goals, previous_code, feedback if isinstance(feedback, str) else feedback.content)\n",
    "       print(\"🚧 코드 생성 중...\")\n",
    "       code_response = llm.invoke(prompt)\n",
    "       raw_code = code_response.content.strip()\n",
    "       code = clean_code_block(raw_code)\n",
    "       print(\"\\n🧾 생성된 코드:\\n\" + \"-\" * 50 + f\"\\n{code}\\n\" + \"-\" * 50)\n",
    "       print(\"\\n📤 피드백 검토를 위해 코드 제출 중...\")\n",
    "       feedback = get_code_feedback(code, goals)\n",
    "       feedback_text = feedback.content.strip()\n",
    "       print(\"\\n📥 받은 피드백:\\n\" + \"-\" * 50 + f\"\\n{feedback_text}\\n\" + \"-\" * 50)\n",
    "       if goals_met(feedback_text, goals):\n",
    "           print(\"✅ LLM이 목표가 충족되었음을 확인합니다. 반복 중지.\")\n",
    "           break\n",
    "       print(\"🛠️ 목표가 완전히 충족되지 않음. 다음 반복 준비 중...\")\n",
    "       previous_code = code\n",
    "   final_code = add_comment_header(code, use_case)\n",
    "   return save_code_to_file(final_code, use_case)"
   ]
  },
  {
   "cell_type": "markdown",
   "id": "2b33005a",
   "metadata": {},
   "source": [
    "### 2. 테스트"
   ]
  },
  {
   "cell_type": "code",
   "execution_count": 9,
   "id": "b73085ad",
   "metadata": {},
   "outputs": [
    {
     "name": "stdout",
     "output_type": "stream",
     "text": [
      "\n",
      "🧠 AI 코드 생성 에이전트에 오신 것을 환영합니다\n",
      "\n",
      "🎯 사용 사례: Write code to find BinaryGap of a given positive integer\n",
      "🎯 목표:\n",
      "  - Code simple to understand\n",
      "  - Functionally correct\n",
      "  - Handles comprehensive edge cases\n",
      "  - Takes positive integer input only\n",
      "  - prints the results with few examples\n",
      "\n",
      "=== 🔁 5 중 1회 반복 ===\n",
      "📝 코드 생성을 위한 프롬프트 구성 중...\n",
      "🚧 코드 생성 중...\n",
      "\n",
      "🧾 생성된 코드:\n",
      "--------------------------------------------------\n",
      "def binary_gap(n):\n",
      "    binary_representation = bin(n)[2:]\n",
      "    max_gap = 0\n",
      "    current_gap = 0\n",
      "    found_one = False\n",
      "\n",
      "    for digit in binary_representation:\n",
      "        if digit == '1':\n",
      "            if found_one:\n",
      "                max_gap = max(max_gap, current_gap)\n",
      "            current_gap = 0\n",
      "            found_one = True\n",
      "        else:\n",
      "            current_gap += 1\n",
      "\n",
      "    return max_gap\n",
      "\n",
      "def main():\n",
      "    examples = [9, 529, 20, 15, 32, 1041, 1]\n",
      "    for number in examples:\n",
      "        print(f\"Binary gap of {number} is {binary_gap(number)}\")\n",
      "\n",
      "if __name__ == \"__main__\":\n",
      "    main()\n",
      "--------------------------------------------------\n",
      "\n",
      "📤 피드백 검토를 위해 코드 제출 중...\n",
      "🔍 목표에 대한 코드 평가 중...\n",
      "\n",
      "📥 받은 피드백:\n",
      "--------------------------------------------------\n",
      "The provided code snippet is a function to calculate the binary gap of a positive integer. A binary gap is defined as the longest sequence of consecutive zeros surrounded by ones in the binary representation of a number. Let's evaluate the code based on the specified goals:\n",
      "\n",
      "### 1. Code Simplicity and Clarity:\n",
      "- The code is relatively simple and easy to understand. The logic is straightforward, and the variable names are descriptive enough to convey their purpose.\n",
      "- The `binary_gap` function is well-structured, and the use of Python's built-in `bin()` function to get the binary representation is appropriate.\n",
      "\n",
      "### 2. Functional Correctness:\n",
      "- The function correctly calculates the binary gap by iterating over the binary representation of the number.\n",
      "- The logic to update `max_gap` and `current_gap` is correctly implemented.\n",
      "\n",
      "### 3. Edge Case Handling:\n",
      "- The function handles the edge case where there are no gaps (e.g., numbers like 1 or numbers that are powers of 2).\n",
      "- However, it does not explicitly check if the input is a positive integer. This could lead to incorrect behavior if a non-positive integer or non-integer is passed to the function.\n",
      "\n",
      "### 4. Input Validation:\n",
      "- The function should include input validation to ensure that only positive integers are processed. This can be done by adding a check at the beginning of the `binary_gap` function.\n",
      "\n",
      "### 5. Test Coverage:\n",
      "- The `main()` function provides a good set of examples to demonstrate the functionality of the `binary_gap` function.\n",
      "- However, it would be beneficial to include edge cases, such as the smallest positive integer (1) and large numbers, to ensure robustness.\n",
      "\n",
      "### Suggested Improvements:\n",
      "1. **Input Validation:** Add a check to ensure the input is a positive integer.\n",
      "2. **Edge Case Testing:** Consider adding more test cases, especially for very large numbers and edge cases like 0 (if you decide to handle non-positive numbers).\n",
      "3. **Documentation:** Add a docstring to the `binary_gap` function to explain its purpose, parameters, and return value.\n",
      "\n",
      "Here is an improved version of the code with input validation and a docstring:\n",
      "\n",
      "```python\n",
      "def binary_gap(n):\n",
      "    \"\"\"\n",
      "    Calculate the longest sequence of consecutive zeros surrounded by ones\n",
      "    in the binary representation of a positive integer.\n",
      "\n",
      "    Parameters:\n",
      "    n (int): A positive integer.\n",
      "\n",
      "    Returns:\n",
      "    int: The length of the longest binary gap.\n",
      "    \"\"\"\n",
      "    if not isinstance(n, int) or n <= 0:\n",
      "        raise ValueError(\"Input must be a positive integer\")\n",
      "\n",
      "    binary_representation = bin(n)[2:]\n",
      "    max_gap = 0\n",
      "    current_gap = 0\n",
      "    found_one = False\n",
      "\n",
      "    for digit in binary_representation:\n",
      "        if digit == '1':\n",
      "            if found_one:\n",
      "                max_gap = max(max_gap, current_gap)\n",
      "            current_gap = 0\n",
      "            found_one = True\n",
      "        else:\n",
      "            current_gap += 1\n",
      "\n",
      "    return max_gap\n",
      "\n",
      "def main():\n",
      "    examples = [9, 529, 20, 15, 32, 1041, 1]\n",
      "    for number in examples:\n",
      "        print(f\"Binary gap of {number} is {binary_gap(number)}\")\n",
      "\n",
      "if __name__ == \"__main__\":\n",
      "    main()\n",
      "```\n",
      "\n",
      "This version includes a check for input validity and provides a clear explanation of the function's purpose and behavior.\n",
      "--------------------------------------------------\n",
      "✅ LLM이 목표가 충족되었음을 확인합니다. 반복 중지.\n",
      "💾 최종 코드를 파일에 저장 중...\n",
      "✅ 코드가 다음에 저장됨: /Users/kwangmyung/Desktop/project/agentic-design-patterns/notebooks/binarygap_8340.py\n"
     ]
    }
   ],
   "source": [
    "if __name__ == \"__main__\":\n",
    "   print(\"\\n🧠 AI 코드 생성 에이전트에 오신 것을 환영합니다\")\n",
    "   # 예제 1\n",
    "   use_case_input = \"Write code to find BinaryGap of a given positive integer\"\n",
    "   goals_input = \"Code simple to understand, Functionally correct, Handles comprehensive edge cases, Takes positive integer input only, prints the results with few examples\"\n",
    "   run_code_agent(use_case_input, goals_input)\n",
    "   # 예제 2\n",
    "   # use_case_input = \"Write code to count the number of files in current directory and all its nested sub directories, and print the total count\"\n",
    "   # goals_input = (\n",
    "   #     \"Code simple to understand, Functionally correct, Handles comprehensive edge cases, Ignore recommendations for performance, Ignore recommendations for test suite use like unittest or pytest\"\n",
    "   # )\n",
    "   # run_code_agent(use_case_input, goals_input)\n",
    "   # 예제 3\n",
    "   # use_case_input = \"Write code which takes a command line input of a word doc or docx file and opens it and counts the number of words, and characters in it and prints all\"\n",
    "   # goals_input = \"Code simple to understand, Functionally correct, Handles edge cases\"\n",
    "   # run_code_agent(use_case_input, goals_input)"
   ]
  },
  {
   "cell_type": "code",
   "execution_count": null,
   "id": "ef705914",
   "metadata": {},
   "outputs": [],
   "source": []
  }
 ],
 "metadata": {
  "kernelspec": {
   "display_name": ".venv",
   "language": "python",
   "name": "python3"
  },
  "language_info": {
   "codemirror_mode": {
    "name": "ipython",
    "version": 3
   },
   "file_extension": ".py",
   "mimetype": "text/x-python",
   "name": "python",
   "nbconvert_exporter": "python",
   "pygments_lexer": "ipython3",
   "version": "3.12.9"
  }
 },
 "nbformat": 4,
 "nbformat_minor": 5
}
