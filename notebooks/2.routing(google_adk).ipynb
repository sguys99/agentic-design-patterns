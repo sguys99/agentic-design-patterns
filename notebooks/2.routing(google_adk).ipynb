{
 "cells": [
  {
   "cell_type": "markdown",
   "id": "fc5e9670",
   "metadata": {},
   "source": [
    "## 2.routing(google adk)"
   ]
  },
  {
   "cell_type": "markdown",
   "id": "bf08abb4",
   "metadata": {},
   "source": [
    "<img style=\"float: right;\" src=\"../img/flex-logo.png\" width=\"120\"><br>"
   ]
  },
  {
   "cell_type": "markdown",
   "id": "0ae315a2",
   "metadata": {},
   "source": [
    "<div style=\"text-align: right\"> <b>your name</b></div>\n",
    "<div style=\"text-align: right\"> Initial issue : 2025.10.02 </div>\n",
    "<div style=\"text-align: right\"> last update : 2025.10.02 </div>"
   ]
  },
  {
   "cell_type": "markdown",
   "id": "c33149ca",
   "metadata": {},
   "source": [
    "개정 이력  \n",
    "- `2025.10.02` : 노트북 "
   ]
  },
  {
   "cell_type": "code",
   "execution_count": 1,
   "id": "d65f19f2",
   "metadata": {},
   "outputs": [
    {
     "data": {
      "text/plain": [
       "True"
      ]
     },
     "execution_count": 1,
     "metadata": {},
     "output_type": "execute_result"
    }
   ],
   "source": [
    "import os\n",
    "from dotenv import load_dotenv\n",
    "load_dotenv()"
   ]
  },
  {
   "cell_type": "code",
   "execution_count": 2,
   "id": "aa3a71df",
   "metadata": {},
   "outputs": [],
   "source": [
    "import uuid\n",
    "from typing import Dict, Any, Optional\n",
    "from google.adk.agents import Agent\n",
    "from google.adk.runners import InMemoryRunner\n",
    "from google.adk.tools import FunctionTool\n",
    "from google.genai import types\n",
    "from google.adk.events import Event"
   ]
  },
  {
   "cell_type": "markdown",
   "id": "1ed8f24b",
   "metadata": {},
   "source": [
    "1. 함수 정의: specialist agent 역할"
   ]
  },
  {
   "cell_type": "code",
   "execution_count": 3,
   "id": "a6314dc5",
   "metadata": {},
   "outputs": [],
   "source": [
    "\n",
    "def booking_handler(request: str) -> str:\n",
    "    \"\"\"\n",
    "    항공권 및 호텔 예약 요청을 처리합니다.\n",
    "    인자:\n",
    "        request: 사용자의 예약 요청.\n",
    "    반환:\n",
    "        예약이 처리되었음을 확인하는 메시지.\n",
    "    \"\"\"\n",
    "    print(\"-------------------------- 예약 핸들러 호출됨 ----------------------------\")\n",
    "    return f\"'{request}'에 대한 예약 작업이 시뮬레이션되었습니다.\"\n",
    "\n",
    "def info_handler(request: str) -> str:\n",
    "    \"\"\"\n",
    "    일반 정보 요청을 처리합니다.\n",
    "    인자:\n",
    "        request: 사용자의 질문.\n",
    "    반환:\n",
    "        정보 요청이 처리되었음을 나타내는 메시지.\n",
    "    \"\"\"\n",
    "    print(\"-------------------------- 정보 핸들러 호출됨 ----------------------------\")\n",
    "    return f\"'{request}'에 대한 정보 요청. 결과: 정보 조회를 시뮬레이션했습니다.\"\n",
    "\n",
    "def unclear_handler(request: str) -> str:\n",
    "    \"\"\"위임할 수 없는 요청을 처리합니다.\"\"\"\n",
    "    return f\"코디네이터가 요청을 위임할 수 없습니다: '{request}'. 내용을 구체적으로 알려주세요.\"\n"
   ]
  },
  {
   "cell_type": "markdown",
   "id": "2d3d1c55",
   "metadata": {},
   "source": [
    "툴 정의"
   ]
  },
  {
   "cell_type": "code",
   "execution_count": 4,
   "id": "e6b2118b",
   "metadata": {},
   "outputs": [],
   "source": [
    "booking_tool = FunctionTool(booking_handler)\n",
    "info_tool = FunctionTool(info_handler)"
   ]
  },
  {
   "cell_type": "markdown",
   "id": "e6b46706",
   "metadata": {},
   "source": [
    "2. Agent 정의"
   ]
  },
  {
   "cell_type": "code",
   "execution_count": 5,
   "id": "7433d586",
   "metadata": {},
   "outputs": [],
   "source": [
    "booking_agent = Agent(\n",
    "    name=\"Booker\",\n",
    "    model=\"gemini-2.0-flash\",\n",
    "    description=\"예약 도구를 호출하여 항공권 및 호텔 예약 요청을 처리하는 특화 에이전트입니다.\",\n",
    "    tools=[booking_tool]\n",
    ")\n",
    "\n",
    "info_agent = Agent(\n",
    "    name=\"Info\",\n",
    "    model=\"gemini-2.0-flash\",\n",
    "    description=\"정보 도구를 호출해 일반 정보를 제공하고 사용자 질문에 답하는 특화 에이전트입니다.\",\n",
    "    tools=[info_tool]\n",
    ")\n",
    "\n",
    "# Define the parent agent with explicit delegation instructions\n",
    "coordinator = Agent(\n",
    "    name=\"Coordinator\",\n",
    "    model=\"gemini-2.0-flash\",\n",
    "    instruction=(\n",
    "        \"당신은 메인 코디네이터입니다. 당신의 유일한 임무는 들어오는 사용자 요청을 분석하고 \"\n",
    "        \"적절한 전문 에이전트에게 위임하는 것입니다. 사용자에게 직접 답변하려고 하지 마십시오.\\n\"\n",
    "        \"- 항공권 또는 호텔 예약과 관련된 모든 요청은 'Booker' 에이전트에 위임하세요.\\n\"\n",
    "        \"- 그 외 일반 정보 질문은 'Info' 에이전트에 위임하세요.\"\n",
    "    ),\n",
    "    description=\"사용자 요청을 올바른 전문 에이전트에게 라우팅하는 코디네이터입니다.\",\n",
    "    # The presence of sub_agents enables LLM-driven delegation (Auto-Flow) by default.\n",
    "    sub_agents=[booking_agent, info_agent]\n",
    ")"
   ]
  },
  {
   "cell_type": "markdown",
   "id": "3c0cc8ad",
   "metadata": {},
   "source": [
    "3. 실행 로직 정의"
   ]
  },
  {
   "cell_type": "code",
   "execution_count": 6,
   "id": "22af883f",
   "metadata": {},
   "outputs": [],
   "source": [
    "async def run_coordinator(runner: InMemoryRunner, request: str):\n",
    "    \"\"\"Runs the coordinator agent with a given request and delegates.\"\"\"\n",
    "    print(f\"\\n--- Running Coordinator with request: '{request}' ---\")\n",
    "    final_result = \"\"\n",
    "    try:\n",
    "        user_id = \"user_123\"\n",
    "        session_id = str(uuid.uuid4())\n",
    "        await runner.session_service.create_session(\n",
    "            app_name=runner.app_name, user_id=user_id, session_id=session_id\n",
    "        )\n",
    "\n",
    "        for event in runner.run(\n",
    "            user_id=user_id,\n",
    "            session_id=session_id,\n",
    "            new_message=types.Content(\n",
    "                role='user',\n",
    "                parts=[types.Part(text=request)]\n",
    "            ),\n",
    "        ):\n",
    "            if event.is_final_response() and event.content:\n",
    "                # Try to get text directly from event.content\n",
    "                # to avoid iterating parts\n",
    "                if hasattr(event.content, 'text') and event.content.text:\n",
    "                     final_result = event.content.text\n",
    "                elif event.content.parts:\n",
    "                    # Fallback: Iterate through parts and extract text (might trigger warning)\n",
    "                    text_parts = [part.text for part in event.content.parts if part.text]\n",
    "                    final_result = \"\".join(text_parts)\n",
    "                # Assuming the loop should break after the final response\n",
    "                break\n",
    "\n",
    "        print(f\"Coordinator Final Response: {final_result}\")\n",
    "        return final_result\n",
    "    except Exception as e:\n",
    "        print(f\"An error occurred while processing your request: {e}\")\n",
    "        return f\"An error occurred while processing your request: {e}\""
   ]
  },
  {
   "cell_type": "code",
   "execution_count": null,
   "id": "0961c002",
   "metadata": {},
   "outputs": [],
   "source": [
    "async def main():\n",
    "    \"\"\"ADK 예제를 실행하는 메인 함수입니다.\"\"\"\n",
    "    print(\"--- Google ADK 라우팅 예제 (ADK 오토-플로우 스타일) ---\")\n",
    "    print(\"참고: Google ADK가 설치되어 있고 인증되어 있어야 합니다.\")\n",
    "\n",
    "    runner = InMemoryRunner(coordinator)\n",
    "\n",
    "    # 사용 예\n",
    "    result_a = await run_coordinator(runner, \"파리에서 호텔을 예약해 주세요.\")\n",
    "    print(f\"최종 출력 A: {result_a}\")\n",
    "\n",
    "    result_b = await run_coordinator(runner, \"세계에서 가장 높은 산은 무엇인가요?\")\n",
    "    print(f\"최종 출력 B: {result_b}\")\n",
    "\n",
    "    result_c = await run_coordinator(runner, \"무작위 사실 하나 말해줘.\")  # Info로 가야 함\n",
    "    print(f\"최종 출력 C: {result_c}\")\n",
    "\n",
    "    result_d = await run_coordinator(runner, \"다음 달 도쿄행 항공편을 찾아줘.\")  # Booker로 가야 함\n",
    "    print(f\"최종 출력 D: {result_d}\")"
   ]
  },
  {
   "cell_type": "code",
   "execution_count": 8,
   "id": "ff95e5a5",
   "metadata": {},
   "outputs": [
    {
     "name": "stdout",
     "output_type": "stream",
     "text": [
      "--- Google ADK 라우팅 예제 (ADK 오토-플로우 스타일) ---\n",
      "참고: Google ADK가 설치되어 있고 인증되어 있어야 합니다.\n",
      "\n",
      "--- Running Coordinator with request: '파리에서 호텔을 예약해 주세요.' ---\n"
     ]
    },
    {
     "name": "stderr",
     "output_type": "stream",
     "text": [
      "Warning: there are non-text parts in the response: ['function_call'], returning concatenated text result from text parts. Check the full candidates.content.parts accessor to get the full model response.\n",
      "Warning: there are non-text parts in the response: ['function_call'], returning concatenated text result from text parts. Check the full candidates.content.parts accessor to get the full model response.\n"
     ]
    },
    {
     "name": "stdout",
     "output_type": "stream",
     "text": [
      "-------------------------- 예약 핸들러 호출됨 ----------------------------\n",
      "Coordinator Final Response: 파리에서 호텔 예약이 완료되었습니다.\n",
      "\n",
      "최종 출력 A: 파리에서 호텔 예약이 완료되었습니다.\n",
      "\n",
      "\n",
      "--- Running Coordinator with request: '세계에서 가장 높은 산은 무엇인가요?' ---\n"
     ]
    },
    {
     "name": "stderr",
     "output_type": "stream",
     "text": [
      "Warning: there are non-text parts in the response: ['function_call'], returning concatenated text result from text parts. Check the full candidates.content.parts accessor to get the full model response.\n",
      "Warning: there are non-text parts in the response: ['function_call'], returning concatenated text result from text parts. Check the full candidates.content.parts accessor to get the full model response.\n",
      "Unclosed connector\n",
      "connections: ['deque([(<aiohttp.client_proto.ResponseHandler object at 0x172958890>, 966651.331821)])']\n",
      "connector: <aiohttp.connector.TCPConnector object at 0x172982600>\n"
     ]
    },
    {
     "name": "stdout",
     "output_type": "stream",
     "text": [
      "-------------------------- 정보 핸들러 호출됨 ----------------------------\n",
      "Coordinator Final Response: 세계에서 가장 높은 산은 에베레스트 산입니다.\n",
      "최종 출력 B: 세계에서 가장 높은 산은 에베레스트 산입니다.\n",
      "\n",
      "--- Running Coordinator with request: '무작위 사실 하나 말해줘.' ---\n"
     ]
    },
    {
     "name": "stderr",
     "output_type": "stream",
     "text": [
      "Warning: there are non-text parts in the response: ['function_call'], returning concatenated text result from text parts. Check the full candidates.content.parts accessor to get the full model response.\n",
      "Unclosed client session\n",
      "client_session: <aiohttp.client.ClientSession object at 0x1728d2e70>\n",
      "Unclosed connector\n",
      "connections: ['deque([(<aiohttp.client_proto.ResponseHandler object at 0x1667237d0>, 966649.257882875)])']\n",
      "connector: <aiohttp.connector.TCPConnector object at 0x1728d3c80>\n",
      "Task was destroyed but it is pending!\n",
      "task: <Task pending name='Task-32' coro=<AsyncClient.aclose() running at /Users/kwangmyung/Desktop/project/agentic-design-patterns/.venv/lib/python3.12/site-packages/google/genai/client.py:90>>\n",
      "/Users/kwangmyung/.local/share/uv/python/cpython-3.12.9-macos-aarch64-none/lib/python3.12/asyncio/base_events.py:716: RuntimeWarning: coroutine 'AsyncClient.aclose' was never awaited\n",
      "  self._ready.clear()\n",
      "RuntimeWarning: Enable tracemalloc to get the object allocation traceback\n",
      "Unclosed client session\n",
      "client_session: <aiohttp.client.ClientSession object at 0x172980830>\n",
      "Unclosed connector\n",
      "connections: ['deque([(<aiohttp.client_proto.ResponseHandler object at 0x172958290>, 966650.366446916)])']\n",
      "connector: <aiohttp.connector.TCPConnector object at 0x172980740>\n",
      "Unclosed connector\n",
      "connections: ['deque([(<aiohttp.client_proto.ResponseHandler object at 0x1728ca8d0>, 966652.34793825)])']\n",
      "connector: <aiohttp.connector.TCPConnector object at 0x172982810>\n",
      "Warning: there are non-text parts in the response: ['function_call'], returning concatenated text result from text parts. Check the full candidates.content.parts accessor to get the full model response.\n",
      "Unclosed connector\n",
      "connections: ['deque([(<aiohttp.client_proto.ResponseHandler object at 0x1728ca8d0>, 966654.411838666)])']\n",
      "connector: <aiohttp.connector.TCPConnector object at 0x172982960>\n"
     ]
    },
    {
     "name": "stdout",
     "output_type": "stream",
     "text": [
      "-------------------------- 정보 핸들러 호출됨 ----------------------------\n",
      "Coordinator Final Response: 재미있는 사실 하나는 문어에게는 심장이 세 개 있다는 것입니다.\n",
      "\n",
      "최종 출력 C: 재미있는 사실 하나는 문어에게는 심장이 세 개 있다는 것입니다.\n",
      "\n",
      "\n",
      "--- Running Coordinator with request: '다음 달 도쿄행 항공편을 찾아줘.' ---\n"
     ]
    },
    {
     "name": "stderr",
     "output_type": "stream",
     "text": [
      "Warning: there are non-text parts in the response: ['function_call'], returning concatenated text result from text parts. Check the full candidates.content.parts accessor to get the full model response.\n",
      "Task exception was never retrieved\n",
      "future: <Task finished name='Task-62' coro=<AsyncClient.aclose() done, defined at /Users/kwangmyung/Desktop/project/agentic-design-patterns/.venv/lib/python3.12/site-packages/google/genai/client.py:90> exception=RuntimeError(\"Task <Task pending name='Task-62' coro=<AsyncClient.aclose() running at /Users/kwangmyung/Desktop/project/agentic-design-patterns/.venv/lib/python3.12/site-packages/google/genai/client.py:115>> got Future <Task pending name='Task-63' coro=<_wait_for_close() running at /Users/kwangmyung/Desktop/project/agentic-design-patterns/.venv/lib/python3.12/site-packages/aiohttp/connector.py:136>> attached to a different loop\")>\n",
      "Traceback (most recent call last):\n",
      "  File \"/Users/kwangmyung/.local/share/uv/python/cpython-3.12.9-macos-aarch64-none/lib/python3.12/asyncio/tasks.py\", line 316, in __step_run_and_handle_result\n",
      "    result = coro.throw(exc)\n",
      "             ^^^^^^^^^^^^^^^\n",
      "  File \"/Users/kwangmyung/Desktop/project/agentic-design-patterns/.venv/lib/python3.12/site-packages/google/genai/client.py\", line 115, in aclose\n",
      "    await self._api_client.aclose()\n",
      "  File \"/Users/kwangmyung/Desktop/project/agentic-design-patterns/.venv/lib/python3.12/site-packages/google/genai/_api_client.py\", line 1777, in aclose\n",
      "    await self._aiohttp_session.close()\n",
      "  File \"/Users/kwangmyung/Desktop/project/agentic-design-patterns/.venv/lib/python3.12/site-packages/aiohttp/client.py\", line 1327, in close\n",
      "    await self._connector.close()\n",
      "  File \"/Users/kwangmyung/Desktop/project/agentic-design-patterns/.venv/lib/python3.12/site-packages/aiohttp/connector.py\", line 1044, in close\n",
      "    await super().close(abort_ssl=abort_ssl or self._ssl_shutdown_timeout == 0)\n",
      "  File \"/Users/kwangmyung/.local/share/uv/python/cpython-3.12.9-macos-aarch64-none/lib/python3.12/asyncio/futures.py\", line 289, in __await__\n",
      "    yield self  # This tells Task to wait for completion.\n",
      "    ^^^^^^^^^^\n",
      "RuntimeError: Task <Task pending name='Task-62' coro=<AsyncClient.aclose() running at /Users/kwangmyung/Desktop/project/agentic-design-patterns/.venv/lib/python3.12/site-packages/google/genai/client.py:115>> got Future <Task pending name='Task-63' coro=<_wait_for_close() running at /Users/kwangmyung/Desktop/project/agentic-design-patterns/.venv/lib/python3.12/site-packages/aiohttp/connector.py:136>> attached to a different loop\n",
      "Warning: there are non-text parts in the response: ['function_call'], returning concatenated text result from text parts. Check the full candidates.content.parts accessor to get the full model response.\n",
      "Unclosed connector\n",
      "connections: ['deque([(<aiohttp.client_proto.ResponseHandler object at 0x17446d910>, 966657.508001083)])']\n",
      "connector: <aiohttp.connector.TCPConnector object at 0x1729148c0>\n"
     ]
    },
    {
     "name": "stdout",
     "output_type": "stream",
     "text": [
      "-------------------------- 예약 핸들러 호출됨 ----------------------------\n",
      "Coordinator Final Response: 다음 달 도쿄행 항공편을 검색 중입니다.\n",
      "최종 출력 D: 다음 달 도쿄행 항공편을 검색 중입니다.\n"
     ]
    }
   ],
   "source": [
    "if __name__ == \"__main__\":\n",
    "    import nest_asyncio\n",
    "    nest_asyncio.apply()\n",
    "    await main()"
   ]
  },
  {
   "cell_type": "markdown",
   "id": "2077fbde",
   "metadata": {},
   "source": [
    "이 스크립트는 메인 Coordinator 에이전트와 두 개의 전문 하위 에이전트인 Booker와 Info로 구성됩니다.   \n",
    "각 전문 에이전트는 행동을 시뮬레이션하는 Python 함수를 래핑하는 FunctionTool을 갖추고 있습니다.  \n",
    "- booking_handler 함수는 항공편 및 호텔 예약 처리를 시뮬레이션하고, info_handler 함수는 일반 정보 검색을 시뮬레이션합니다.  \n",
    "- unclear_handler는 코디네이터가 위임할 수 없는 요청에 대한 폴백으로 포함되어 있지만, 현재 코디네이터 로직은 메인 run_coordinator 함수에서 위임 실패에 대해 명시적으로 사용하지 않습니다.\n",
    "\n",
    "\n",
    "instruction에 정의된 Coordinator 에이전트의 주요 역할은 들어오는 사용자 메시지를 분석하고 Booker 또는 Info 에이전트에 위임하는 것입니다.  \n",
    "이 위임은 Coordinator가 sub_agents를 정의했기 때문에 ADK의 Auto-Flow 메커니즘에 의해 자동으로 처리됩니다.  \n",
    "run_coordinator 함수는 InMemoryRunner를 설정하고, 사용자 및 세션 ID를 생성한 다음, runner를 사용하여 코디네이터 에이전트를 통해 사용자의 요청을 처리합니다. [runner.run](http://runner.run) 메서드는 요청을 처리하고 이벤트를 생성하며, 코드는 event.content에서 최종 응답 텍스트를 추출합니다.\n",
    "\n",
    "main 함수는 다양한 요청으로 코디네이터를 실행하여 시스템의 사용을 보여주며, 예약 요청을 Booker에, 정보 요청을 Info 에이전트에 어떻게 위임하는지를 보여줍니다."
   ]
  }
 ],
 "metadata": {
  "kernelspec": {
   "display_name": ".venv",
   "language": "python",
   "name": "python3"
  },
  "language_info": {
   "codemirror_mode": {
    "name": "ipython",
    "version": 3
   },
   "file_extension": ".py",
   "mimetype": "text/x-python",
   "name": "python",
   "nbconvert_exporter": "python",
   "pygments_lexer": "ipython3",
   "version": "3.12.9"
  }
 },
 "nbformat": 4,
 "nbformat_minor": 5
}
