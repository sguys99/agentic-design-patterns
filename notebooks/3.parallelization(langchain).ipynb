{
 "cells": [
  {
   "cell_type": "markdown",
   "id": "fc5e9670",
   "metadata": {},
   "source": [
    "## 3. Parallelization"
   ]
  },
  {
   "cell_type": "markdown",
   "id": "bf08abb4",
   "metadata": {},
   "source": [
    "<img style=\"float: right;\" src=\"../img/flex-logo.png\" width=\"120\"><br>"
   ]
  },
  {
   "cell_type": "markdown",
   "id": "0ae315a2",
   "metadata": {},
   "source": [
    "<div style=\"text-align: right\"> <b>your name</b></div>\n",
    "<div style=\"text-align: right\"> Initial issue : 2025.10.02 </div>\n",
    "<div style=\"text-align: right\"> last update : 2025.10.02 </div>"
   ]
  },
  {
   "cell_type": "markdown",
   "id": "c33149ca",
   "metadata": {},
   "source": [
    "개정 이력  \n",
    "- `2025.10.02` : 노트북 "
   ]
  },
  {
   "cell_type": "code",
   "execution_count": 1,
   "id": "d65f19f2",
   "metadata": {},
   "outputs": [
    {
     "data": {
      "text/plain": [
       "True"
      ]
     },
     "execution_count": 1,
     "metadata": {},
     "output_type": "execute_result"
    }
   ],
   "source": [
    "import os\n",
    "from dotenv import load_dotenv\n",
    "load_dotenv()"
   ]
  },
  {
   "cell_type": "code",
   "execution_count": 2,
   "id": "aa3a71df",
   "metadata": {},
   "outputs": [],
   "source": [
    "import os\n",
    "import asyncio\n",
    "from typing import Optional\n",
    "from langchain_openai import ChatOpenAI\n",
    "from langchain_core.prompts import ChatPromptTemplate\n",
    "from langchain_core.output_parsers import StrOutputParser\n",
    "from langchain_core.runnables import Runnable, RunnableParallel, RunnablePassthrough"
   ]
  },
  {
   "cell_type": "code",
   "execution_count": 3,
   "id": "c0b614b9",
   "metadata": {},
   "outputs": [],
   "source": [
    "try:\n",
    "    llm: Optional[ChatOpenAI] = ChatOpenAI(model=\"gpt-4o-mini\", temperature=0.7)\n",
    "except Exception as e:\n",
    "    print(f\"언어 모델 초기화 오류: {e}\")\n",
    "    llm = None"
   ]
  },
  {
   "cell_type": "markdown",
   "id": "a02c256a",
   "metadata": {},
   "source": [
    "### 0. 독립 체인 정의"
   ]
  },
  {
   "cell_type": "code",
   "execution_count": 4,
   "id": "77a34751",
   "metadata": {},
   "outputs": [],
   "source": [
    "summarize_chain: Runnable = (\n",
    "    ChatPromptTemplate.from_messages([\n",
    "        (\"system\", \"다음 주제를 간결하게 요약하십시오:\"),\n",
    "        (\"user\", \"{topic}\")\n",
    "    ])\n",
    "    | llm\n",
    "    | StrOutputParser()\n",
    ")\n",
    "\n",
    "questions_chain: Runnable = (\n",
    "    ChatPromptTemplate.from_messages([\n",
    "        (\"system\", \"다음 주제에 대한 세 가지 흥미로운 질문을 생성하십시오:\"),\n",
    "        (\"user\", \"{topic}\")\n",
    "    ])\n",
    "    | llm\n",
    "    | StrOutputParser()\n",
    ")\n",
    "\n",
    "terms_chain: Runnable = (\n",
    "    ChatPromptTemplate.from_messages([\n",
    "        (\"system\", \"다음 주제에서 5-10개의 핵심 용어를 쉼표로 구분하여 식별하십시오:\"),\n",
    "        (\"user\", \"{topic}\")\n",
    "    ])\n",
    "    | llm\n",
    "    | StrOutputParser()\n",
    ")"
   ]
  },
  {
   "cell_type": "markdown",
   "id": "fb0ad32c",
   "metadata": {},
   "source": [
    "### 1. 병렬 실행 블록 정의: 병렬 결과와 원래 주제를 다음 단계로 전달"
   ]
  },
  {
   "cell_type": "code",
   "execution_count": 5,
   "id": "36dea349",
   "metadata": {},
   "outputs": [],
   "source": [
    "map_chain = RunnableParallel(\n",
    "    {\n",
    "        \"summary\": summarize_chain,\n",
    "        \"questions\": questions_chain,\n",
    "        \"key_terms\": terms_chain,\n",
    "        \"topic\": RunnablePassthrough(),  # 원래 주제를 그대로 전달\n",
    "    }\n",
    ")"
   ]
  },
  {
   "cell_type": "markdown",
   "id": "b0851f8b",
   "metadata": {},
   "source": [
    "### 2. 병렬 결과를 병합할 합성 프롬프트, 체인 정의"
   ]
  },
  {
   "cell_type": "code",
   "execution_count": 6,
   "id": "b1189784",
   "metadata": {},
   "outputs": [],
   "source": [
    "synthesis_prompt = ChatPromptTemplate.from_messages([\n",
    "    (\"system\", \"\"\"\n",
    "    다음 정보를 기반으로 포괄적인 답변을 작성하세요.:\n",
    "     요약: {summary}\n",
    "     관련 질문: {questions}\n",
    "     핵심 용어: {key_terms}\n",
    "     \"\"\"),\n",
    "    (\"user\", \"원래 주제: {topic}\")\n",
    "])\n",
    "\n",
    "# 3. 병렬 결과를 합성 프롬프트로 직접 연결한 다음 LLM과 출력 파서로 전체 체인을 구성합니다\n",
    "full_parallel_chain = map_chain | synthesis_prompt | llm | StrOutputParser()"
   ]
  },
  {
   "cell_type": "markdown",
   "id": "4b790305",
   "metadata": {},
   "source": [
    "### 3. 체인 실행"
   ]
  },
  {
   "cell_type": "code",
   "execution_count": 7,
   "id": "b64d0e70",
   "metadata": {},
   "outputs": [],
   "source": [
    "async def run_parallel_example(topic: str) -> None:\n",
    "    \"\"\"\n",
    "    특정 주제로 병렬 처리 체인을 비동기적으로 호출하고 합성된 결과를 출력합니다.\n",
    "    Args:\n",
    "        topic: LangChain 체인으로 처리될 입력 주제\n",
    "    \"\"\"\n",
    "    if not llm:\n",
    "        print(\"LLM이 초기화되지 않았습니다. 예제를 실행할 수 없습니다.\")\n",
    "        return\n",
    "\n",
    "    print(f\"\\n--- 주제 '{topic}'에 대한 병렬 LangChain 예제 실행 ---\")\n",
    "\n",
    "    try:\n",
    "        # `ainvoke`에 대한 입력은 단일 'topic' 문자열이며,\n",
    "        # `map_chain`의 각 실행 가능 객체로 전달됩니다\n",
    "        response = await full_parallel_chain.ainvoke(topic)\n",
    "        print(\"\\n--- 최종 응답 ---\")\n",
    "        print(response)\n",
    "    except Exception as e:\n",
    "        print(f\"\\n체인 실행 중 오류 발생: {e}\")"
   ]
  },
  {
   "cell_type": "code",
   "execution_count": 8,
   "id": "93b390fd",
   "metadata": {},
   "outputs": [
    {
     "name": "stdout",
     "output_type": "stream",
     "text": [
      "\n",
      "--- 주제 '우주 탐사의 역사'에 대한 병렬 LangChain 예제 실행 ---\n",
      "\n",
      "--- 최종 응답 ---\n",
      "우주 탐사의 역사는 인류의 호기심과 과학적 진보의 상징으로, 20세기 중반부터 본격적으로 시작되었습니다. 이 시기는 인류가 지구를 넘어 우주를 탐험하려는 첫걸음을 내디딘 중요한 시점입니다. \n",
      "\n",
      "첫 번째로 주목할 만한 사건은 1957년 소련이 세계 최초의 인공위성인 스푸트니크 1호를 발사한 것입니다. 이는 우주 탐사의 시대를 여는 기폭제 역할을 하였고, 이후의 많은 우주 프로그램에 영감을 주었습니다. 스푸트니크의 발사는 국가 간의 우주 경쟁을 촉발시키고, 과학과 기술의 발전을 가속화하는 계기가 되었습니다. 이러한 경쟁은 나중에 미국의 아폴로 프로그램으로 이어져, 인류의 우주 탐사에서 중요한 이정표를 세우는 결과를 가져왔습니다.\n",
      "\n",
      "1961년, 유리 가가린이 인류 최초로 유인 우주비행을 성공적으로 수행한 것은 또 다른 중요한 사건입니다. 이는 인간이 지구의 중력을 넘어 우주로 나아갈 수 있다는 가능성을 보여주었고, 이후의 유인 우주 탐사 미션에 대한 신뢰와 흥미를 높였습니다.\n",
      "\n",
      "1969년 아폴로 11호의 달 착륙은 우주 탐사의 역사에서 상징적인 사건으로, 인류가 지구를 넘어 외계 천체에 발을 디딘 첫 번째 사례였습니다. 이 미션은 과학적 성취뿐 아니라, 인류의 단결과 탐험 정신을 보여주는 상징으로 남아 있습니다. 아폴로 11호의 성공은 이후의 우주 탐사 미션에 큰 영감을 주었으며, 다양한 국가와 민간 기업들이 우주 탐사에 도전하도록 자극하였습니다.\n",
      "\n",
      "1990년대에 들어서면서 허블 우주 망원경의 발사는 우주 관측의 혁신을 가져왔습니다. 이 망원경은 깊은 우주를 관찰할 수 있는 능력을 통해 우주의 기원, 구조, 그리고 진화에 대한 이해를 크게 확장시켰습니다.\n",
      "\n",
      "현재는 민간 우주 기업들이 적극적으로 참여하고 있으며, 특히 화성 탐사 및 유인 화성 미션 준비가 활발히 진행되고 있습니다. SpaceX와 같은 기업들은 재사용 가능한 로켓 기술을 개발하여 우주 여행의 비용을 크게 낮추고 있으며, 이는 더 많은 사람들이 우주를 탐사할 수 있는 가능성을 열어주고 있습니다.\n",
      "\n",
      "향후 진행 중인 우주 탐사 미션 중에서는 화성 탐사가 인류의 우주에 대한 이해를 가장 크게 확장할 것으로 예상됩니다. 화성은 인류가 거주할 수 있는 가능성이 있는 행성으로, 다양한 지질학적 특성과 기후 조건을 가지고 있어 많은 과학적 연구의 대상이 됩니다. NASA의 퍼서비어런스 로버와 같은 탐사선들은 화성의 과거 생명체 존재 가능성을 탐색하고, 향후 유인 화성 미션을 위한 준비 작업을 수행하고 있습니다.\n",
      "\n",
      "결론적으로, 우주 탐사의 역사는 기술적 진보와 인류의 탐험 정신이 결합된 여정으로, 앞으로도 지속적으로 인류의 지식과 이해를 확장하는 데 기여할 것입니다.\n"
     ]
    }
   ],
   "source": [
    "# Jupyter 노트북에서는 이미 이벤트 루프가 실행 중이므로 await를 직접 사용합니다\n",
    "test_topic = \"우주 탐사의 역사\"\n",
    "await run_parallel_example(test_topic)"
   ]
  },
  {
   "cell_type": "code",
   "execution_count": null,
   "id": "f35cce7e",
   "metadata": {},
   "outputs": [],
   "source": []
  }
 ],
 "metadata": {
  "kernelspec": {
   "display_name": ".venv",
   "language": "python",
   "name": "python3"
  },
  "language_info": {
   "codemirror_mode": {
    "name": "ipython",
    "version": 3
   },
   "file_extension": ".py",
   "mimetype": "text/x-python",
   "name": "python",
   "nbconvert_exporter": "python",
   "pygments_lexer": "ipython3",
   "version": "3.12.9"
  }
 },
 "nbformat": 4,
 "nbformat_minor": 5
}
