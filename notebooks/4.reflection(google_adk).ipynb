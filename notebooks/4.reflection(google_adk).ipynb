{
 "cells": [
  {
   "cell_type": "markdown",
   "id": "fc5e9670",
   "metadata": {},
   "source": [
    "## 4.reflection(google adk)"
   ]
  },
  {
   "cell_type": "markdown",
   "id": "bf08abb4",
   "metadata": {},
   "source": [
    "<img style=\"float: right;\" src=\"../img/flex-logo.png\" width=\"120\"><br>"
   ]
  },
  {
   "cell_type": "markdown",
   "id": "0ae315a2",
   "metadata": {},
   "source": [
    "<div style=\"text-align: right\"> <b>your name</b></div>\n",
    "<div style=\"text-align: right\"> Initial issue : 2025.10.02 </div>\n",
    "<div style=\"text-align: right\"> last update : 2025.10.02 </div>"
   ]
  },
  {
   "cell_type": "markdown",
   "id": "c33149ca",
   "metadata": {},
   "source": [
    "개정 이력  \n",
    "- `2025.10.02` : 노트북 "
   ]
  },
  {
   "cell_type": "code",
   "execution_count": 1,
   "id": "d65f19f2",
   "metadata": {},
   "outputs": [
    {
     "data": {
      "text/plain": [
       "True"
      ]
     },
     "execution_count": 1,
     "metadata": {},
     "output_type": "execute_result"
    }
   ],
   "source": [
    "import os\n",
    "from dotenv import load_dotenv\n",
    "load_dotenv()"
   ]
  },
  {
   "cell_type": "code",
   "execution_count": 2,
   "id": "aa3a71df",
   "metadata": {},
   "outputs": [],
   "source": [
    "from google.adk.agents import LlmAgent, ParallelAgent, SequentialAgent\n",
    "from google.adk.tools import google_search\n",
    "GEMINI_MODEL=\"gemini-2.0-flash\""
   ]
  },
  {
   "cell_type": "markdown",
   "id": "810e468d",
   "metadata": {},
   "source": [
    "### 1. 하위 에이전트 정의"
   ]
  },
  {
   "cell_type": "code",
   "execution_count": 3,
   "id": "19b1958d",
   "metadata": {},
   "outputs": [],
   "source": [
    "# 연구원 1: 재생 에너지\n",
    "researcher_agent_1 = LlmAgent(\n",
    "    name=\"RenewableEnergyResearcher\",\n",
    "    model=GEMINI_MODEL,\n",
    "    instruction=\"\"\"\n",
    "    당신은 에너지 전문 AI 연구 조수입니다.\n",
    "    '재생 에너지 원천'의 최신 발전을 연구하세요.\n",
    "    제공된 Google 검색 도구를 사용하세요.\n",
    "    주요 발견을 간결하게 요약하세요 (1-2 문장).\n",
    "    요약 결과만 출력하세요.\n",
    "\"\"\",\n",
    "    description=\"재생 에너지 원천을 연구합니다.\",\n",
    "    tools=[google_search],\n",
    "    # 병합 에이전트를 위한 상태에 결과 저장\n",
    "    output_key=\"renewable_energy_result\"\n",
    ")\n",
    "\n",
    "# 연구원 2: 전기 자동차\n",
    "researcher_agent_2 = LlmAgent(\n",
    "    name=\"EVResearcher\",\n",
    "    model=GEMINI_MODEL,\n",
    "    instruction=\"\"\"\n",
    "    당신은 교통 전문 AI 연구 조수입니다.\n",
    "    '전기 자동차 기술'의 최신 발전을 연구하세요.\n",
    "    제공된 Google 검색 도구를 사용하세요.\n",
    "    주요 발견을 간결하게 요약하세요 (1-2 문장).\n",
    "    요약 결과만 출력하세요.\n",
    "\"\"\",\n",
    "    description=\"전기 자동차 기술을 연구합니다.\",\n",
    "    tools=[google_search],\n",
    "    # 병합 에이전트를 위한 상태에 결과 저장\n",
    "    output_key=\"ev_technology_result\"\n",
    ")\n",
    "\n",
    "# 연구원 3: 탄소 포집\n",
    "researcher_agent_3 = LlmAgent(\n",
    "    name=\"CarbonCaptureResearcher\",\n",
    "    model=GEMINI_MODEL,\n",
    "    instruction=\"\"\"\n",
    "    당신은 기후 솔루션 전문 AI 연구 조수입니다.\n",
    "    '탄소 포집 방법'의 현재 상태를 연구하세요.\n",
    "    제공된 Google 검색 도구를 사용하세요.\n",
    "    주요 발견을 간결하게 요약하세요 (1-2 문장).\n",
    "    요약 결과만 출력하세요.\n",
    "\"\"\",\n",
    "    description=\"탄소 포집 방법을 연구합니다.\",\n",
    "    tools=[google_search],\n",
    "    # 병합 에이전트를 위한 상태에 결과 저장\n",
    "    output_key=\"carbon_capture_result\"\n",
    ")"
   ]
  },
  {
   "cell_type": "markdown",
   "id": "8a90a6fd",
   "metadata": {},
   "source": [
    "### 2. ParalleAgent 생성"
   ]
  },
  {
   "cell_type": "code",
   "execution_count": 4,
   "id": "db247df7",
   "metadata": {},
   "outputs": [],
   "source": [
    "parallel_research_agent = ParallelAgent(\n",
    "    name=\"ParallelWebResearchAgent\",\n",
    "    sub_agents=[researcher_agent_1, researcher_agent_2, researcher_agent_3],\n",
    "    description=\"정보를 수집하기 위해 여러 연구 에이전트를 병렬로 실행합니다.\"\n",
    ")"
   ]
  },
  {
   "cell_type": "markdown",
   "id": "18f8a333",
   "metadata": {},
   "source": [
    "### 3. 병합 에이전트 정의"
   ]
  },
  {
   "cell_type": "code",
   "execution_count": 5,
   "id": "52435b06",
   "metadata": {},
   "outputs": [],
   "source": [
    "# 이 에이전트는 병렬 에이전트가 세션 상태에 저장한 결과를 가져와 출처를 명시한 단일 구조화된 응답으로 합성합니다\n",
    "\n",
    "merger_agent = LlmAgent(\n",
    "    name=\"SynthesisAgent\",\n",
    "    model=GEMINI_MODEL,  # 또는 합성에 더 강력한 모델이 필요하다면\n",
    "    instruction=\"\"\"\n",
    "    당신은 연구 발견을 구조화된 보고서로 결합하는 AI 조수입니다.\n",
    "주요 작업은 다음 연구 요약을 합성하여 소스 영역에 명확히 출처를 표시하는 것입니다. 각 주제별 제목을 사용하여 응답을 구조화하세요. 보고서가 일관되고 주요 포인트를 원활하게 통합하도록 하세요.\n",
    "**중요: 전체 응답은 아래 '입력 요약'에 제공된 정보에 *전적으로* 기반해야 합니다. 이러한 특정 요약에 없는 외부 지식, 사실, 세부 사항을 추가하지 마세요.**\n",
    "**입력 요약:**\n",
    "*   **재생 에너지:**\n",
    "    {renewable_energy_result}\n",
    "*   **전기 자동차:**\n",
    "    {ev_technology_result}\n",
    "*   **탄소 포집:**\n",
    "    {carbon_capture_result}\n",
    "**출력 형식:**\n",
    "## 최근 지속 가능 기술 발전 요약\n",
    "### 재생 에너지 발견\n",
    "(RenewableEnergyResearcher의 발견 기반)\n",
    "[위 재생 에너지 입력 요약에 *만* 기반하여 합성하고 확장하세요.]\n",
    "### 전기 자동차 발견\n",
    "(EVResearcher의 발견 기반)\n",
    "[위 EV 입력 요약에 *만* 기반하여 합성하고 확장하세요.]\n",
    "### 탄소 포집 발견\n",
    "(CarbonCaptureResearcher의 발견 기반)\n",
    "[위 탄소 포집 입력 요약에 *만* 기반하여 합성하고 확장하세요.]\n",
    "### 전체 결론\n",
    "[위 발견에 *만* 연결하는 간단한 (1-2 문장) 결론을 제공하세요.]\n",
    "이 형식을 따르는 구조화된 보고서 *만* 출력하세요. 이 구조 외부에 소개나 결론 문구를 포함하지 말고 제공된 입력 요약 콘텐츠만 엄격히 사용하세요.\n",
    "\"\"\",\n",
    "    description=\"병렬 에이전트의 연구 발견을 구조화되고 출처가 명시된 보고서로 결합하며, 제공된 입력에 엄격히 기반합니다.\",\n",
    "    # 병합을 위해 도구 불필요\n",
    "    # 여기서는 output_key 불필요, 직접 응답이 시퀀스의 최종 출력\n",
    ")"
   ]
  },
  {
   "cell_type": "markdown",
   "id": "899dcbdf",
   "metadata": {},
   "source": [
    "### 4. Sequential Agent 생성"
   ]
  },
  {
   "cell_type": "code",
   "execution_count": 6,
   "id": "f0f17c97",
   "metadata": {},
   "outputs": [],
   "source": [
    "# 실행될 메인 에이전트입니다. 먼저 ParallelAgent를 실행하여\n",
    "# 상태를 채운 다음 MergerAgent를 실행하여 최종 출력을 생성합니다\n",
    "sequential_pipeline_agent = SequentialAgent(\n",
    "    name=\"ResearchAndSynthesisPipeline\",\n",
    "    # 먼저 병렬 연구 실행, 그 다음 병합\n",
    "    sub_agents=[parallel_research_agent, merger_agent],\n",
    "    description=\"병렬 연구를 조율하고 결과를 합성합니다.\"\n",
    ")"
   ]
  },
  {
   "cell_type": "markdown",
   "id": "f01c0901",
   "metadata": {},
   "source": [
    "### 5. Sequential Agent 실행 (Async)"
   ]
  },
  {
   "cell_type": "markdown",
   "id": "59qsebype4q",
   "metadata": {},
   "source": [
    "작성해볼것"
   ]
  },
  {
   "cell_type": "code",
   "execution_count": null,
   "id": "a59fc752",
   "metadata": {},
   "outputs": [],
   "source": []
  }
 ],
 "metadata": {
  "kernelspec": {
   "display_name": ".venv",
   "language": "python",
   "name": "python3"
  },
  "language_info": {
   "codemirror_mode": {
    "name": "ipython",
    "version": 3
   },
   "file_extension": ".py",
   "mimetype": "text/x-python",
   "name": "python",
   "nbconvert_exporter": "python",
   "pygments_lexer": "ipython3",
   "version": "3.12.9"
  }
 },
 "nbformat": 4,
 "nbformat_minor": 5
}
