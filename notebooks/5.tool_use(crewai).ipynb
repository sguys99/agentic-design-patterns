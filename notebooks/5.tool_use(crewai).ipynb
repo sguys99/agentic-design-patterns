{
 "cells": [
  {
   "cell_type": "markdown",
   "id": "fc5e9670",
   "metadata": {},
   "source": [
    "## 5. Tool use(crewai)"
   ]
  },
  {
   "cell_type": "markdown",
   "id": "bf08abb4",
   "metadata": {},
   "source": [
    "<img style=\"float: right;\" src=\"../img/flex-logo.png\" width=\"120\"><br>"
   ]
  },
  {
   "cell_type": "markdown",
   "id": "0ae315a2",
   "metadata": {},
   "source": [
    "<div style=\"text-align: right\"> <b>your name</b></div>\n",
    "<div style=\"text-align: right\"> Initial issue : 2025.10.02 </div>\n",
    "<div style=\"text-align: right\"> last update : 2025.10.02 </div>"
   ]
  },
  {
   "cell_type": "markdown",
   "id": "c33149ca",
   "metadata": {},
   "source": [
    "개정 이력  \n",
    "- `2025.10.02` : 노트북 "
   ]
  },
  {
   "cell_type": "code",
   "execution_count": 1,
   "id": "d65f19f2",
   "metadata": {},
   "outputs": [
    {
     "data": {
      "text/plain": [
       "True"
      ]
     },
     "execution_count": 1,
     "metadata": {},
     "output_type": "execute_result"
    }
   ],
   "source": [
    "import os\n",
    "from dotenv import load_dotenv\n",
    "load_dotenv()"
   ]
  },
  {
   "cell_type": "code",
   "execution_count": 1,
   "id": "aa3a71df",
   "metadata": {},
   "outputs": [],
   "source": [
    "import os, getpass\n",
    "import asyncio\n",
    "import nest_asyncio\n",
    "from typing import List, Optional\n",
    "from dotenv import load_dotenv\n",
    "import logging\n",
    "from langchain_openai import ChatOpenAI\n",
    "from langchain_google_genai import ChatGoogleGenerativeAI\n",
    "from langchain_core.prompts import ChatPromptTemplate\n",
    "from langchain_core.tools import tool as langchain_tool\n",
    "from langchain.agents import create_tool_calling_agent, AgentExecutor"
   ]
  },
  {
   "cell_type": "code",
   "execution_count": 2,
   "id": "a9b9f92b",
   "metadata": {},
   "outputs": [],
   "source": [
    "try:\n",
    "    llm: Optional[ChatOpenAI] = ChatOpenAI(model=\"gpt-4o-mini\", temperature=0.7)\n",
    "except Exception as e:\n",
    "    print(f\"언어 모델 초기화 오류: {e}\")\n",
    "    llm = None"
   ]
  },
  {
   "cell_type": "code",
   "execution_count": 3,
   "id": "8c4ccd1f",
   "metadata": {},
   "outputs": [],
   "source": [
    "# try:\n",
    "#   # A model with function/tool calling capabilities is required.\n",
    "#   llm = ChatGoogleGenerativeAI(model=\"gemini-2.0-flash\", temperature=0)\n",
    "#   print(f\"✅ Language model initialized: {llm.model}\")\n",
    "# except Exception as e:\n",
    "#   print(f\"🛑 Error initializing language model: {e}\")\n",
    "#   llm = None"
   ]
  },
  {
   "cell_type": "markdown",
   "id": "0e2a6f19",
   "metadata": {},
   "source": [
    "### 1. 도구 정의"
   ]
  },
  {
   "cell_type": "code",
   "execution_count": 4,
   "id": "9148a537",
   "metadata": {},
   "outputs": [],
   "source": [
    "@langchain_tool\n",
    "def search_information(query: str) -> str:\n",
    "  \"\"\"\n",
    "  주어진 주제에 대한 사실 정보를 제공합니다.\n",
    "  '프랑스의 수도'나 '런던의 날씨?'와 같은 문장의 답을 찾을 때 이 도구를 사용하세요.\n",
    "  \"\"\"\n",
    "  print(f\"\\n--- 🛠️ 도구 호출: search_information | 쿼리: '{query}' ---\")\n",
    "  # 사전 정의된 결과로 검색 도구를 모의(simulate)합니다.\n",
    "  simulated_results = {\n",
    "      \"런던의 날씨\": \"현재 런던의 날씨는 흐리고 기온은 15°C입니다.\",\n",
    "      \"프랑스의 수도\": \"프랑스의 수도는 파리입니다.\",\n",
    "      \"지구의 인구\": \"지구의 추정 인구는 약 80억 명입니다.\",\n",
    "      \"가장 높은 산\": \"해수면 기준 가장 높은 산은 에베레스트산입니다.\",\n",
    "      \"default\": f\"'{query}'에 대한 모의 검색 결과: 구체적인 정보를 찾지 못했지만, 흥미로운 주제네요.\"\n",
    "  }\n",
    "  result = simulated_results.get(query.lower(), simulated_results[\"default\"])\n",
    "  print(f\"--- 도구 결과: {result} ---\")\n",
    "  return result\n",
    "\n",
    "tools = [search_information]\n"
   ]
  },
  {
   "cell_type": "markdown",
   "id": "5a897fc7",
   "metadata": {},
   "source": [
    "### 2. Tool calling agent 정의"
   ]
  },
  {
   "cell_type": "code",
   "execution_count": 5,
   "id": "a7455aa6",
   "metadata": {},
   "outputs": [],
   "source": [
    "if llm:\n",
    "  # This prompt template requires an `agent_scratchpad` placeholder for the agent's internal steps.\n",
    "  agent_prompt = ChatPromptTemplate.from_messages([\n",
    "      (\"system\", \"당신은 친절한 어시스턴트 입니다.\"),\n",
    "      (\"human\", \"{input}\"),\n",
    "      (\"placeholder\", \"{agent_scratchpad}\"),\n",
    "  ])\n",
    "  # Create the agent, binding the LLM, tools, and prompt together.\n",
    "  agent = create_tool_calling_agent(llm, tools, agent_prompt)\n",
    "  # AgentExecutor is the runtime that invokes the agent and executes the chosen tools.\n",
    "  # The 'tools' argument is not needed here as they are already bound to the agent.\n",
    "  agent_executor = AgentExecutor(agent=agent, verbose=True, tools=tools)"
   ]
  },
  {
   "cell_type": "markdown",
   "id": "04dbd459",
   "metadata": {},
   "source": [
    "### 3. 실행 함수 정의/ 테스트"
   ]
  },
  {
   "cell_type": "code",
   "execution_count": 6,
   "id": "c0b64f4e",
   "metadata": {},
   "outputs": [],
   "source": [
    "async def run_agent_with_tool(query: str):\n",
    "  \"\"\"쿼리로 에이전트 실행기를 호출하고 최종 응답을 출력합니다.\"\"\"\n",
    "  print(f\"\\n--- 🏃 에이전트 실행: 쿼리 '{query}' ---\")\n",
    "  try:\n",
    "      response = await agent_executor.ainvoke({\"input\": query})\n",
    "      print(\"\\n--- ✅ 최종 에이전트 응답 ---\")\n",
    "      print(response[\"output\"])\n",
    "  except Exception as e:\n",
    "      print(f\"\\n🛑 에이전트 실행 중 오류가 발생했습니다: {e}\")\n",
    "\n"
   ]
  },
  {
   "cell_type": "code",
   "execution_count": 7,
   "id": "c61b7437",
   "metadata": {},
   "outputs": [],
   "source": [
    "async def main():\n",
    "  \"\"\"Runs all agent queries concurrently.\"\"\"\n",
    "  tasks = [\n",
    "      run_agent_with_tool(\"What is the capital of France?\"),\n",
    "      run_agent_with_tool(\"What's the weather like in London?\"),\n",
    "      run_agent_with_tool(\"Tell me something about dogs.\")  # Should trigger the default tool response\n",
    "  ]\n",
    "  await asyncio.gather(*tasks)"
   ]
  },
  {
   "cell_type": "code",
   "execution_count": 8,
   "id": "6722e16a",
   "metadata": {},
   "outputs": [
    {
     "name": "stdout",
     "output_type": "stream",
     "text": [
      "\n",
      "--- 🏃 에이전트 실행: 쿼리 'What is the capital of France?' ---\n",
      "\n",
      "--- 🏃 에이전트 실행: 쿼리 'What's the weather like in London?' ---\n",
      "\n",
      "--- 🏃 에이전트 실행: 쿼리 'Tell me something about dogs.' ---\n",
      "\n",
      "\n",
      "\u001b[1m> Entering new AgentExecutor chain...\u001b[0m\n",
      "\n",
      "\n",
      "\u001b[1m> Entering new AgentExecutor chain...\u001b[0m\n",
      "\n",
      "\n",
      "\u001b[1m> Entering new AgentExecutor chain...\u001b[0m\n",
      "\u001b[32;1m\u001b[1;3m\n",
      "Invoking: `search_information` with `{'query': 'capital of France'}`\n",
      "\n",
      "\n",
      "\u001b[0m\n",
      "--- 🛠️ 도구 호출: search_information | 쿼리: 'capital of France' ---\n",
      "--- 도구 결과: 'capital of France'에 대한 모의 검색 결과: 구체적인 정보를 찾지 못했지만, 흥미로운 주제네요. ---\n",
      "\u001b[36;1m\u001b[1;3m'capital of France'에 대한 모의 검색 결과: 구체적인 정보를 찾지 못했지만, 흥미로운 주제네요.\u001b[0m\u001b[32;1m\u001b[1;3mThe capital of France is Paris.\u001b[0m\n",
      "\n",
      "\u001b[1m> Finished chain.\u001b[0m\n",
      "\n",
      "--- ✅ 최종 에이전트 응답 ---\n",
      "The capital of France is Paris.\n",
      "\u001b[32;1m\u001b[1;3m\n",
      "Invoking: `search_information` with `{'query': 'facts about dogs'}`\n",
      "\n",
      "\n",
      "\u001b[0m\n",
      "--- 🛠️ 도구 호출: search_information | 쿼리: 'facts about dogs' ---\n",
      "--- 도구 결과: 'facts about dogs'에 대한 모의 검색 결과: 구체적인 정보를 찾지 못했지만, 흥미로운 주제네요. ---\n",
      "\u001b[36;1m\u001b[1;3m'facts about dogs'에 대한 모의 검색 결과: 구체적인 정보를 찾지 못했지만, 흥미로운 주제네요.\u001b[0m\u001b[32;1m\u001b[1;3m\n",
      "Invoking: `search_information` with `{'query': 'London weather'}`\n",
      "\n",
      "\n",
      "\u001b[0m\n",
      "--- 🛠️ 도구 호출: search_information | 쿼리: 'London weather' ---\n",
      "--- 도구 결과: 'London weather'에 대한 모의 검색 결과: 구체적인 정보를 찾지 못했지만, 흥미로운 주제네요. ---\n",
      "\u001b[36;1m\u001b[1;3m'London weather'에 대한 모의 검색 결과: 구체적인 정보를 찾지 못했지만, 흥미로운 주제네요.\u001b[0m\u001b[32;1m\u001b[1;3m현재 런던의 날씨에 대한 구체적인 정보를 찾을 수 없었습니다. 하지만 일반적으로 런던의 날씨는 변덕스럽고 비가 자주 오는 편입니다. 오늘의 정확한 날씨를 확인하려면 기상 웹사이트나 앱을 참고하시기 바랍니다. 다른 궁금한 점이 있으신가요?\u001b[0m\n",
      "\n",
      "\u001b[1m> Finished chain.\u001b[0m\n",
      "\n",
      "--- ✅ 최종 에이전트 응답 ---\n",
      "현재 런던의 날씨에 대한 구체적인 정보를 찾을 수 없었습니다. 하지만 일반적으로 런던의 날씨는 변덕스럽고 비가 자주 오는 편입니다. 오늘의 정확한 날씨를 확인하려면 기상 웹사이트나 앱을 참고하시기 바랍니다. 다른 궁금한 점이 있으신가요?\n",
      "\u001b[32;1m\u001b[1;3mDogs are fascinating creatures with a rich history and a variety of characteristics. Here are some interesting facts about dogs:\n",
      "\n",
      "1. **Domestication**: Dogs were domesticated from wolves over 15,000 years ago, making them one of the first domesticated animals.\n",
      "\n",
      "2. **Breeds**: There are over 340 recognized dog breeds worldwide, each with unique traits and characteristics.\n",
      "\n",
      "3. **Sense of Smell**: Dogs have an incredible sense of smell that is between 10,000 to 100,000 times more sensitive than humans, which is why they are often used in search and rescue missions and by law enforcement.\n",
      "\n",
      "4. **Communication**: Dogs communicate through a combination of vocalizations, body language, and facial expressions. Their ability to understand human emotions is remarkable.\n",
      "\n",
      "5. **Lifespan**: The average lifespan of a dog varies by breed, but it generally ranges from 10 to 15 years.\n",
      "\n",
      "6. **Social Animals**: Dogs are pack animals and thrive on social interaction, both with humans and other dogs.\n",
      "\n",
      "7. **Intelligence**: Dogs are known for their intelligence and ability to learn commands and tricks. Some breeds, like Border Collies, are particularly renowned for their problem-solving skills.\n",
      "\n",
      "8. **Health Benefits**: Owning a dog can have numerous health benefits, including reduced stress, increased physical activity, and companionship.\n",
      "\n",
      "If you want to know more specific information about dogs or their breeds, feel free to ask!\u001b[0m\n",
      "\n",
      "\u001b[1m> Finished chain.\u001b[0m\n",
      "\n",
      "--- ✅ 최종 에이전트 응답 ---\n",
      "Dogs are fascinating creatures with a rich history and a variety of characteristics. Here are some interesting facts about dogs:\n",
      "\n",
      "1. **Domestication**: Dogs were domesticated from wolves over 15,000 years ago, making them one of the first domesticated animals.\n",
      "\n",
      "2. **Breeds**: There are over 340 recognized dog breeds worldwide, each with unique traits and characteristics.\n",
      "\n",
      "3. **Sense of Smell**: Dogs have an incredible sense of smell that is between 10,000 to 100,000 times more sensitive than humans, which is why they are often used in search and rescue missions and by law enforcement.\n",
      "\n",
      "4. **Communication**: Dogs communicate through a combination of vocalizations, body language, and facial expressions. Their ability to understand human emotions is remarkable.\n",
      "\n",
      "5. **Lifespan**: The average lifespan of a dog varies by breed, but it generally ranges from 10 to 15 years.\n",
      "\n",
      "6. **Social Animals**: Dogs are pack animals and thrive on social interaction, both with humans and other dogs.\n",
      "\n",
      "7. **Intelligence**: Dogs are known for their intelligence and ability to learn commands and tricks. Some breeds, like Border Collies, are particularly renowned for their problem-solving skills.\n",
      "\n",
      "8. **Health Benefits**: Owning a dog can have numerous health benefits, including reduced stress, increased physical activity, and companionship.\n",
      "\n",
      "If you want to know more specific information about dogs or their breeds, feel free to ask!\n"
     ]
    }
   ],
   "source": [
    "nest_asyncio.apply()\n",
    "asyncio.run(main())"
   ]
  },
  {
   "cell_type": "code",
   "execution_count": null,
   "id": "182215e6",
   "metadata": {},
   "outputs": [],
   "source": []
  }
 ],
 "metadata": {
  "kernelspec": {
   "display_name": ".venv",
   "language": "python",
   "name": "python3"
  },
  "language_info": {
   "codemirror_mode": {
    "name": "ipython",
    "version": 3
   },
   "file_extension": ".py",
   "mimetype": "text/x-python",
   "name": "python",
   "nbconvert_exporter": "python",
   "pygments_lexer": "ipython3",
   "version": "3.12.9"
  }
 },
 "nbformat": 4,
 "nbformat_minor": 5
}
