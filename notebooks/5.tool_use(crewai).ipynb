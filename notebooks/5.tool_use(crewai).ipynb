{
 "cells": [
  {
   "cell_type": "markdown",
   "id": "fc5e9670",
   "metadata": {},
   "source": [
    "## 5. Tool use(crewai)"
   ]
  },
  {
   "cell_type": "markdown",
   "id": "bf08abb4",
   "metadata": {},
   "source": [
    "<img style=\"float: right;\" src=\"../img/flex-logo.png\" width=\"120\"><br>"
   ]
  },
  {
   "cell_type": "markdown",
   "id": "0ae315a2",
   "metadata": {},
   "source": [
    "<div style=\"text-align: right\"> <b>your name</b></div>\n",
    "<div style=\"text-align: right\"> Initial issue : 2025.10.02 </div>\n",
    "<div style=\"text-align: right\"> last update : 2025.10.02 </div>"
   ]
  },
  {
   "cell_type": "markdown",
   "id": "c33149ca",
   "metadata": {},
   "source": [
    "개정 이력  \n",
    "- `2025.10.02` : 노트북 "
   ]
  },
  {
   "cell_type": "code",
   "execution_count": 1,
   "id": "d65f19f2",
   "metadata": {},
   "outputs": [],
   "source": [
    "import os\n",
    "from dotenv import load_dotenv\n",
    "load_dotenv()\n",
    "\n",
    "os.environ[\"OPENAI_MODEL_NAME\"] = \"gpt-4o\""
   ]
  },
  {
   "cell_type": "code",
   "execution_count": 2,
   "id": "aa3a71df",
   "metadata": {},
   "outputs": [],
   "source": [
    "import os\n",
    "from crewai import Agent, Task, Crew\n",
    "from crewai.tools import tool\n",
    "import logging"
   ]
  },
  {
   "cell_type": "code",
   "execution_count": 3,
   "id": "a9b9f92b",
   "metadata": {},
   "outputs": [],
   "source": [
    "logging.basicConfig(level=logging.INFO, format='%(asctime)s - %(levelname)s - %(message)s')"
   ]
  },
  {
   "cell_type": "markdown",
   "id": "71b95d17",
   "metadata": {},
   "source": [
    "### 1. 도구 정의"
   ]
  },
  {
   "cell_type": "code",
   "execution_count": 4,
   "id": "a953067b",
   "metadata": {},
   "outputs": [],
   "source": [
    "# 이 도구는 이제 원시 데이터(부동소수점)를 반환하거나 표준 파이썬 예외를 발생시킵니다.\n",
    "# 이렇게 하면 재사용성이 높아지고, 에이전트가 결과를 적절히 처리하도록 강제합니다.\n",
    "\n",
    "@tool(\"주가 조회 도구\")\n",
    "def get_stock_price(ticker: str) -> float:\n",
    "    \"\"\"\n",
    "    지정한 주식 티커 심볼의 최신(모의) 주가를 가져옵니다.\n",
    "    가격을 float으로 반환합니다. 티커를 찾을 수 없으면 ValueError를 발생시킵니다.\n",
    "    \"\"\"\n",
    "    logging.info(f\"도구 호출: get_stock_price | 티커 '{ticker}'\")\n",
    "    simulated_prices = {\n",
    "        \"AAPL\": 178.15,\n",
    "        \"GOOGL\": 1750.30,\n",
    "        \"MSFT\": 425.50,\n",
    "    }\n",
    "    price = simulated_prices.get(ticker.upper())\n",
    "    if price is not None:\n",
    "        return price\n",
    "    else:\n",
    "        # 문자열을 반환하는 것보다 구체적인 예외를 발생시키는 편이 좋습니다.\n",
    "        # 에이전트는 예외를 처리할 수 있으며 다음 동작을 스스로 결정할 수 있습니다.\n",
    "        raise ValueError(f\"티커 '{ticker.upper()}'에 대한 모의 가격을 찾을 수 없습니다.\")"
   ]
  },
  {
   "cell_type": "markdown",
   "id": "35166757",
   "metadata": {},
   "source": [
    "### 2. Agent 정의"
   ]
  },
  {
   "cell_type": "code",
   "execution_count": 5,
   "id": "357f28f0",
   "metadata": {},
   "outputs": [],
   "source": [
    "financial_analyst_agent = Agent(\n",
    "  role='수석 재무 분석가',\n",
    "  goal='제공된 도구를 사용해 주식 데이터를 분석하고 핵심 가격을 보고합니다.',\n",
    "  backstory=\"당신은 데이터 소스를 활용해 주식 정보를 찾는 데 능숙한 숙련된 재무 분석가입니다. 명확하고 직설적인 답변을 제공합니다.\",\n",
    "  verbose=True,\n",
    "  tools=[get_stock_price],\n",
    "  # 위임을 허용하는 것이 유용할 수 있지만, 이 간단한 작업에는 필수는 아닙니다.\n",
    "  allow_delegation=False,\n",
    ")"
   ]
  },
  {
   "cell_type": "markdown",
   "id": "1ec60ff2",
   "metadata": {},
   "source": [
    "### 3. Task 정의"
   ]
  },
  {
   "cell_type": "code",
   "execution_count": 6,
   "id": "2b1e0269",
   "metadata": {},
   "outputs": [],
   "source": [
    "# 작업 설명이 더 구체적이며, 데이터 조회 성공/실패에 대한 에이전트의 반응을 안내합니다.\n",
    "analyze_aapl_task = Task(\n",
    "  description=\"\"\"주가 조회 도구(Stock Price Lookup Tool)를 사용하여 AAPL 주식의 현재 가격을 확인하세요.\n",
    "  도구 호출이 성공하면 가격을 명확하게 보고하세요.\n",
    "  도구가 오류를 발생시키면, 해당 티커를 찾을 수 없음을 설명하고 대안을 제시하세요.\n",
    "  \"\"\",\n",
    "  expected_output=\"주가에 대한 명확한 보고 또는 오류 설명.\",\n",
    "  agent=financial_analyst_agent,\n",
    ")"
   ]
  },
  {
   "cell_type": "markdown",
   "id": "e25bf515",
   "metadata": {},
   "source": [
    "### 4. Crew 구성"
   ]
  },
  {
   "cell_type": "code",
   "execution_count": 7,
   "id": "17a277ac",
   "metadata": {},
   "outputs": [],
   "source": [
    "financial_crew = Crew(\n",
    "  agents=[financial_analyst_agent],\n",
    "  tasks=[analyze_aapl_task],\n",
    "  verbose=True  # 프로덕션에서는 상세 로그를 줄이려면 False로 설정\n",
    ")"
   ]
  },
  {
   "cell_type": "markdown",
   "id": "a29bfe5d",
   "metadata": {},
   "source": [
    "### 5. 실행"
   ]
  },
  {
   "cell_type": "code",
   "execution_count": 8,
   "id": "b71d8ac8",
   "metadata": {},
   "outputs": [
    {
     "name": "stderr",
     "output_type": "stream",
     "text": [
      "\u001b[92m10:56:13 - LiteLLM:INFO\u001b[0m: utils.py:3347 - \n",
      "LiteLLM completion() model= gpt-4o; provider = openai\n",
      "2025-10-15 10:56:13,537 - INFO - \n",
      "LiteLLM completion() model= gpt-4o; provider = openai\n"
     ]
    },
    {
     "name": "stdout",
     "output_type": "stream",
     "text": [
      "\n",
      "## Financial 크루 시작...\n",
      "---------------------------------\n",
      "\u001b[1m\u001b[95m# Agent:\u001b[00m \u001b[1m\u001b[92m수석 재무 분석가\u001b[00m\n",
      "\u001b[95m## Task:\u001b[00m \u001b[92m주가 조회 도구(Stock Price Lookup Tool)를 사용하여 AAPL 주식의 현재 가격을 확인하세요.\n",
      "  도구 호출이 성공하면 가격을 명확하게 보고하세요.\n",
      "  도구가 오류를 발생시키면, 해당 티커를 찾을 수 없음을 설명하고 대안을 제시하세요.\n",
      "  \u001b[00m\n"
     ]
    },
    {
     "name": "stderr",
     "output_type": "stream",
     "text": [
      "\u001b[92m10:56:15 - LiteLLM:INFO\u001b[0m: utils.py:1273 - Wrapper: Completed Call, calling success_handler\n",
      "2025-10-15 10:56:15,022 - INFO - Wrapper: Completed Call, calling success_handler\n",
      "2025-10-15 10:56:15,032 - INFO - 도구 호출: get_stock_price | 티커 'AAPL'\n",
      "\u001b[92m10:56:15 - LiteLLM:INFO\u001b[0m: utils.py:3347 - \n",
      "LiteLLM completion() model= gpt-4o; provider = openai\n",
      "2025-10-15 10:56:15,033 - INFO - \n",
      "LiteLLM completion() model= gpt-4o; provider = openai\n"
     ]
    },
    {
     "name": "stdout",
     "output_type": "stream",
     "text": [
      "\n",
      "\n",
      "\u001b[1m\u001b[95m# Agent:\u001b[00m \u001b[1m\u001b[92m수석 재무 분석가\u001b[00m\n",
      "\u001b[95m## Using tool:\u001b[00m \u001b[92m주가 조회 도구\u001b[00m\n",
      "\u001b[95m## Tool Input:\u001b[00m \u001b[92m\n",
      "\"{\\\"ticker\\\": \\\"AAPL\\\"}\"\u001b[00m\n",
      "\u001b[95m## Tool Output:\u001b[00m \u001b[92m\n",
      "178.15\u001b[00m\n"
     ]
    },
    {
     "name": "stderr",
     "output_type": "stream",
     "text": [
      "\u001b[92m10:56:16 - LiteLLM:INFO\u001b[0m: utils.py:1273 - Wrapper: Completed Call, calling success_handler\n",
      "2025-10-15 10:56:16,082 - INFO - Wrapper: Completed Call, calling success_handler\n"
     ]
    },
    {
     "name": "stdout",
     "output_type": "stream",
     "text": [
      "\n",
      "\n",
      "\u001b[1m\u001b[95m# Agent:\u001b[00m \u001b[1m\u001b[92m수석 재무 분석가\u001b[00m\n",
      "\u001b[95m## Final Answer:\u001b[00m \u001b[92m\n",
      "AAPL 주식의 현재 가격은 $178.15입니다.\u001b[00m\n",
      "\n",
      "\n",
      "\n",
      "---------------------------------\n",
      "## 크루 실행이 완료되었습니다.\n",
      "\n",
      "최종 결과:\n",
      " AAPL 주식의 현재 가격은 $178.15입니다.\n"
     ]
    }
   ],
   "source": [
    "def main():\n",
    "    \"\"\"크루를 실행하는 메인 함수.\"\"\"\n",
    "    # 런타임 오류를 피하기 위해 시작 전에 API 키를 확인합니다.\n",
    "    if not os.environ.get(\"OPENAI_API_KEY\"):\n",
    "        print(\"ERROR: OPENAI_API_KEY 환경 변수가 설정되어 있지 않습니다.\")\n",
    "        print(\"스크립트를 실행하기 전에 설정해주세요.\")\n",
    "        return\n",
    "    print(\"\\n## Financial 크루 시작...\")\n",
    "    print(\"---------------------------------\")\n",
    "    # kickoff 메서드는 실행을 시작합니다.\n",
    "    result = financial_crew.kickoff()\n",
    "    print(\"\\n---------------------------------\")\n",
    "    print(\"## 크루 실행이 완료되었습니다.\")\n",
    "    print(\"\\n최종 결과:\\n\", result)\n",
    "\n",
    "if __name__ == \"__main__\":\n",
    "    main()"
   ]
  },
  {
   "cell_type": "code",
   "execution_count": null,
   "id": "679339d4",
   "metadata": {},
   "outputs": [],
   "source": []
  }
 ],
 "metadata": {
  "kernelspec": {
   "display_name": ".venv",
   "language": "python",
   "name": "python3"
  },
  "language_info": {
   "codemirror_mode": {
    "name": "ipython",
    "version": 3
   },
   "file_extension": ".py",
   "mimetype": "text/x-python",
   "name": "python",
   "nbconvert_exporter": "python",
   "pygments_lexer": "ipython3",
   "version": "3.12.9"
  }
 },
 "nbformat": 4,
 "nbformat_minor": 5
}
