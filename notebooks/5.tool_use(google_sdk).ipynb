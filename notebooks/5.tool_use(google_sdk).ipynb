{
 "cells": [
  {
   "cell_type": "markdown",
   "id": "fc5e9670",
   "metadata": {},
   "source": [
    "## 5. Tool use(google sdk)"
   ]
  },
  {
   "cell_type": "markdown",
   "id": "bf08abb4",
   "metadata": {},
   "source": [
    "<img style=\"float: right;\" src=\"../img/flex-logo.png\" width=\"120\"><br>"
   ]
  },
  {
   "cell_type": "markdown",
   "id": "0ae315a2",
   "metadata": {},
   "source": [
    "<div style=\"text-align: right\"> <b>your name</b></div>\n",
    "<div style=\"text-align: right\"> Initial issue : 2025.10.02 </div>\n",
    "<div style=\"text-align: right\"> last update : 2025.10.02 </div>"
   ]
  },
  {
   "cell_type": "markdown",
   "id": "c33149ca",
   "metadata": {},
   "source": [
    "개정 이력  \n",
    "- `2025.10.02` : 노트북 "
   ]
  },
  {
   "cell_type": "code",
   "execution_count": 1,
   "id": "d65f19f2",
   "metadata": {},
   "outputs": [
    {
     "data": {
      "text/plain": [
       "True"
      ]
     },
     "execution_count": 1,
     "metadata": {},
     "output_type": "execute_result"
    }
   ],
   "source": [
    "import os\n",
    "from dotenv import load_dotenv\n",
    "load_dotenv()"
   ]
  },
  {
   "cell_type": "code",
   "execution_count": 2,
   "id": "aa3a71df",
   "metadata": {},
   "outputs": [],
   "source": [
    "from google.adk.agents import Agent\n",
    "from google.adk.runners import Runner\n",
    "from google.adk.sessions import InMemorySessionService\n",
    "from google.adk.tools import google_search\n",
    "from google.genai import types\n",
    "import nest_asyncio\n",
    "import asyncio"
   ]
  },
  {
   "cell_type": "code",
   "execution_count": 3,
   "id": "eaa4d2b8",
   "metadata": {},
   "outputs": [],
   "source": [
    "# Define variables required for Session setup and Agent execution\n",
    "APP_NAME=\"Google Search_agent\"\n",
    "USER_ID=\"user1234\"\n",
    "SESSION_ID=\"1234\""
   ]
  },
  {
   "cell_type": "markdown",
   "id": "5418a878",
   "metadata": {},
   "source": [
    "### 1. 에이전트 정의"
   ]
  },
  {
   "cell_type": "code",
   "execution_count": 4,
   "id": "f5f0c528",
   "metadata": {},
   "outputs": [],
   "source": [
    "root_agent = Agent(\n",
    "  name=\"basic_search_agent\",\n",
    "  model=\"gemini-2.0-flash-exp\",\n",
    "  description=\"Google 검색을 사용해 질문에 답하는 에이전트입니다.\",\n",
    "  instruction=\"인터넷을 검색해 당신의 질문에 답할 수 있어요. 무엇이든 물어보세요!\",\n",
    "  tools=[google_search]  # Google Search는 Google 검색을 수행하는 사전 구축된 도구입니다.\n",
    ")"
   ]
  },
  {
   "cell_type": "markdown",
   "id": "679339d4",
   "metadata": {},
   "source": [
    "### 2. 실행함수 정의"
   ]
  },
  {
   "cell_type": "code",
   "execution_count": 5,
   "id": "4519ec80",
   "metadata": {},
   "outputs": [],
   "source": [
    "async def call_agent(query):\n",
    "  \"\"\"\n",
    "  쿼리로 에이전트를 호출하는 헬퍼 함수.\n",
    "  \"\"\"\n",
    "  # 세션 및 러너\n",
    "  session_service = InMemorySessionService()\n",
    "  session = await session_service.create_session(app_name=APP_NAME, user_id=USER_ID, session_id=SESSION_ID)\n",
    "  runner = Runner(agent=root_agent, app_name=APP_NAME, session_service=session_service)\n",
    "  content = types.Content(role='user', parts=[types.Part(text=query)])\n",
    "  events = runner.run(user_id=USER_ID, session_id=SESSION_ID, new_message=content)\n",
    "  for event in events:\n",
    "      if event.is_final_response():\n",
    "          final_response = event.content.parts[0].text\n",
    "          print(\"에이전트 응답: \", final_response)"
   ]
  },
  {
   "cell_type": "markdown",
   "id": "f3f305bd",
   "metadata": {},
   "source": [
    "### 3. 테스트"
   ]
  },
  {
   "cell_type": "code",
   "execution_count": 6,
   "id": "48e2ae03",
   "metadata": {},
   "outputs": [
    {
     "name": "stdout",
     "output_type": "stream",
     "text": [
      "에이전트 응답:   최신 AI 뉴스에 대해 알려드리겠습니다. 2025년 10월 15일 현재 주요 뉴스는 다음과 같습니다.\n",
      "\n",
      "*   **SBS 뉴스:**\n",
      "    *   물리적 AI 글로벌 얼라이언스 출범으로 움직이는 AI 시대가 시작되었습니다.\n",
      "    *   LG는 미국의 AI 로봇 스타트업 Figure AI에 추가 투자를 통해 ABC 전략을 가속화하고 있습니다.\n",
      "    *   산업 AI 활용을 70%까지 끌어올려 세계 4대 제조 강국을 목표로 하고 있습니다.\n",
      "    *   JYP는 AI 아티스트를 만들어 글로벌 엔터테인먼트의 새로운 미래를 열겠다고 발표했습니다.\n",
      "\n",
      "*   **조선일보:** 오픈AI의 최신 AI 모델인 GPT-5가 이전 모델보다 자살, 자해, 약물 등 유해한 질문에 더 잘 응답한다는 조사 결과가 나왔습니다.\n",
      "*   **삼성 AI 뉴스:** 삼성전자는 AI의 중요성을 빠르게 인식하고 주요 국가에 AI 연구시설을 개소하는 등 적극적인 투자와 인재 확보에 나서고 있습니다. 삼성전자는 고객의 생활과 밀접한 AI 서비스를 제공할 수 있다는 강점을 가지고 있습니다.\n",
      "*   **AI타임스:**\n",
      "    *   오픈AI는 브로드컴과 10GW 칩 계약을 체결하여 누적 총용량이 26GW로 증가했습니다.\n",
      "    *   오픈AI는 ARM과 AI 서버 칩에 탑재할 CPU를 개발하고 있습니다.\n",
      "    *   자율주행 웨이브는 엔비디아에 이어 소프트뱅크 및 MS와 대규모 투자 협상을 진행 중입니다.\n",
      "    *   안두릴은 메타와의 협업을 통해 군용 AI 증강 헬멧 '이글아이'를 공개했습니다.\n",
      "    *   AMD는 2나노 기반 차세대 AI 칩 출시를 예고하며 엔비디아보다 제조 기술에서 앞서나가고 있습니다.\n",
      "\n",
      "*   **인공지능신문:** AMD는 메타가 도입한 오픈 컴퓨트 프로젝트의 AI용 오픈 랙 플랫폼 기반 '헬리오스' 랙 스케일 플랫폼을 공개했습니다.\n",
      "\n",
      "이 외에도 다양한 AI 관련 뉴스가 쏟아지고 있으니, 관심 있는 분야를 중심으로 꾸준히 정보를 얻으시는 것이 좋습니다.\n"
     ]
    }
   ],
   "source": [
    "nest_asyncio.apply()\n",
    "asyncio.run(call_agent(\"최신 AI 뉴스가 뭐야?\"))"
   ]
  },
  {
   "cell_type": "markdown",
   "id": "8ae11d70",
   "metadata": {},
   "source": [
    "에이전트 세션 관리를 위해 InMemorySessionService (8장 참조)를 초기화합니다. \n",
    "지정된 애플리케이션, 사용자, 세션 ID로 새 세션을 생성합니다.   \n",
    "생성된 에이전트를 세션 서비스와 연결하는 Runner를 인스턴스화합니다.   \n",
    "이 러너는 세션 내 에이전트 상호작용 실행을 담당합니다.   \n",
    "에이전트에 쿼리를 보내고 응답을 처리하는 프로세스를 단순화하는 헬퍼 함수 call_agent를 정의합니다.   \n",
    "call_agent 내에서 사용자 쿼리를 'user' 역할의 types.Content 객체로 포맷합니다.   \n",
    "runner.run 메서드를 사용자 ID, 세션 ID, 새 메시지 콘텐츠로 호출합니다.   \n",
    "runner.run 메서드는 에이전트 행동과 응답을 나타내는 이벤트 목록을 반환합니다.   \n",
    "코드는 최종 응답을 찾기 위해 이 이벤트들을 반복합니다.   \n",
    "이벤트가 최종 응답으로 식별되면 텍스트 콘텐츠를 추출합니다.   \n",
    "추출된 에이전트 응답을 콘솔에 출력합니다.   \n",
    "마지막으로 \"what's the latest ai news?\" 쿼리로 call_agent 함수를 호출해 에이전트를 실제로 시연합니다."
   ]
  },
  {
   "cell_type": "markdown",
   "id": "662f8c13",
   "metadata": {},
   "source": [
    "### 또다른 예시 \n",
    "- built_in_code_execution 도구는 에이전트에게 샌드박스된 Python 인터프리터를 제공\n",
    "- 이 것으로 코드 스크립트 실행 가능"
   ]
  },
  {
   "cell_type": "code",
   "execution_count": 7,
   "id": "31c7f7d9",
   "metadata": {},
   "outputs": [],
   "source": [
    "import os, getpass\n",
    "import asyncio\n",
    "import nest_asyncio\n",
    "from typing import List\n",
    "from dotenv import load_dotenv\n",
    "import logging\n",
    "from google.adk.agents import Agent as ADKAgent, LlmAgent\n",
    "from google.adk.runners import Runner\n",
    "from google.adk.sessions import InMemorySessionService\n",
    "from google.adk.tools import google_search\n",
    "from google.adk.code_executors import BuiltInCodeExecutor\n",
    "from google.genai import types\n",
    "\n",
    "# Define variables required for Session setup and Agent execution\n",
    "APP_NAME=\"calculator\"\n",
    "USER_ID=\"user1234\"\n",
    "SESSION_ID=\"session_code_exec_async\""
   ]
  },
  {
   "cell_type": "markdown",
   "id": "12165666",
   "metadata": {},
   "source": [
    "### 1. 에이전트 정의"
   ]
  },
  {
   "cell_type": "code",
   "execution_count": 8,
   "id": "951a8bbd",
   "metadata": {},
   "outputs": [],
   "source": [
    "code_agent = LlmAgent(\n",
    "  name=\"calculator_agent\",\n",
    "  model=\"gemini-2.0-flash\",\n",
    "  code_executor=BuiltInCodeExecutor(),\n",
    "  instruction=\"\"\"당신은 계산기 에이전트입니다.\n",
    "  수학식이 주어지면 결과를 계산하기 위해 Python 코드를 작성하고 실행하세요.\n",
    "  마크다운이나 코드 블록 없이 최종 숫자 결과만 일반 텍스트로 반환하세요.\n",
    "  \"\"\",\n",
    "  description=\"계산을 수행하기 위해 Python 코드를 실행합니다.\",\n",
    ")"
   ]
  },
  {
   "cell_type": "markdown",
   "id": "24c860b6",
   "metadata": {},
   "source": [
    "### 2. 에이전트 상호작용 정의"
   ]
  },
  {
   "cell_type": "code",
   "execution_count": 9,
   "id": "965d5fba",
   "metadata": {},
   "outputs": [],
   "source": [
    "async def call_agent_async(query):\n",
    "  # 세션 및 러너\n",
    "  session_service = InMemorySessionService()\n",
    "  session = await session_service.create_session(app_name=APP_NAME, user_id=USER_ID, session_id=SESSION_ID)\n",
    "  runner = Runner(agent=code_agent, app_name=APP_NAME, session_service=session_service)\n",
    "  content = types.Content(role='user', parts=[types.Part(text=query)])\n",
    "  print(f\"\\n--- 쿼리 실행: {query} ---\")\n",
    "  final_response_text = \"최종 텍스트 응답을 캡처하지 못했습니다.\"\n",
    "  try:\n",
    "      # run_async 사용\n",
    "      async for event in runner.run_async(user_id=USER_ID, session_id=SESSION_ID, new_message=content):\n",
    "          print(f\"이벤트 ID: {event.id}, 작성자: {event.author}\")\n",
    "          # --- 먼저 특정 파트 확인 ---\n",
    "          # has_specific_part = False\n",
    "          if event.content and event.content.parts and event.is_final_response():\n",
    "              for part in event.content.parts:  # 모든 파트를 순회\n",
    "                  if part.executable_code:\n",
    "                      # 실제 코드 문자열은 .code로 접근\n",
    "                      print(f\"  디버그: 에이전트가 생성한 코드:\\n```python\\n{part.executable_code.code}\\n```\")\n",
    "                      has_specific_part = True\n",
    "                  elif part.code_execution_result:\n",
    "                      # 결과와 출력에 올바르게 접근\n",
    "                      print(f\"  디버그: 코드 실행 결과: {part.code_execution_result.outcome} - 출력:\\n{part.code_execution_result.output}\")\n",
    "                      has_specific_part = True\n",
    "                  # 디버깅을 위해 모든 이벤트에서 발견된 텍스트 파트도 출력\n",
    "                  elif part.text and not part.text.isspace():\n",
    "                      print(f\"  텍스트: '{part.text.strip()}'\")\n",
    "                      # 아래 최종 응답 로직을 위해 여기서는 has_specific_part=True로 설정하지 않습니다.\n",
    "              # --- 특정 파트 확인 이후 최종 응답 확인 ---\n",
    "              text_parts = [part.text for part in event.content.parts if part.text]\n",
    "              final_result = \"\".join(text_parts)\n",
    "              print(f\"==> 최종 에이전트 응답: {final_result}\")\n",
    "  except Exception as e:\n",
    "      print(f\"에이전트 실행 중 오류: {e}\")\n",
    "  print(\"-\" * 30)"
   ]
  },
  {
   "cell_type": "markdown",
   "id": "f648dc83",
   "metadata": {},
   "source": [
    "### 3. 테스트 함수"
   ]
  },
  {
   "cell_type": "code",
   "execution_count": 10,
   "id": "f5ca22b0",
   "metadata": {},
   "outputs": [],
   "source": [
    "# 예제를 실행하는 메인 비동기 함수\n",
    "async def main():\n",
    "  await call_agent_async(\"(5 + 7) * 3의 값을 계산해줘\")\n",
    "  await call_agent_async(\"10의 팩토리얼은 얼마야?\")"
   ]
  },
  {
   "cell_type": "code",
   "execution_count": 11,
   "id": "4edbb7bf",
   "metadata": {},
   "outputs": [
    {
     "name": "stdout",
     "output_type": "stream",
     "text": [
      "\n",
      "--- 쿼리 실행: (5 + 7) * 3의 값을 계산해줘 ---\n"
     ]
    },
    {
     "name": "stderr",
     "output_type": "stream",
     "text": [
      "Warning: there are non-text parts in the response: ['executable_code', 'code_execution_result'], returning concatenated text result from text parts. Check the full candidates.content.parts accessor to get the full model response.\n"
     ]
    },
    {
     "name": "stdout",
     "output_type": "stream",
     "text": [
      "이벤트 ID: fa2bb731-7b2d-4ef3-8b02-021e5a6a8a00, 작성자: calculator_agent\n",
      "  디버그: 에이전트가 생성한 코드:\n",
      "```python\n",
      "print((5 + 7) * 3)\n",
      "\n",
      "```\n",
      "  디버그: 코드 실행 결과: Outcome.OUTCOME_OK - 출력:\n",
      "36\n",
      "\n",
      "  텍스트: '36'\n",
      "==> 최종 에이전트 응답: 36\n",
      "\n",
      "------------------------------\n",
      "\n",
      "--- 쿼리 실행: 10의 팩토리얼은 얼마야? ---\n"
     ]
    },
    {
     "name": "stderr",
     "output_type": "stream",
     "text": [
      "Warning: there are non-text parts in the response: ['executable_code', 'code_execution_result'], returning concatenated text result from text parts. Check the full candidates.content.parts accessor to get the full model response.\n"
     ]
    },
    {
     "name": "stdout",
     "output_type": "stream",
     "text": [
      "이벤트 ID: c7ac86e7-b3c9-4e55-a9f3-a4dc6afa81c7, 작성자: calculator_agent\n",
      "  디버그: 에이전트가 생성한 코드:\n",
      "```python\n",
      "import math\n",
      "print(math.factorial(10))\n",
      "\n",
      "```\n",
      "  디버그: 코드 실행 결과: Outcome.OUTCOME_OK - 출력:\n",
      "3628800\n",
      "\n",
      "  텍스트: '3628800'\n",
      "==> 최종 에이전트 응답: 3628800\n",
      "\n",
      "------------------------------\n"
     ]
    }
   ],
   "source": [
    "try:\n",
    "  nest_asyncio.apply()\n",
    "  asyncio.run(main())\n",
    "except RuntimeError as e:\n",
    "  # 이미 실행 중인 루프(예: Jupyter/Colab)에서 asyncio.run을 호출할 때의 특정 오류 처리\n",
    "  if \"cannot be called from a running event loop\" in str(e):\n",
    "      print(\"\\n이미 실행 중인 이벤트 루프(예: Colab/Jupyter)에서 실행되고 있습니다.\")\n",
    "      print(\"노트북 셀에서 `await main()`을 실행해주세요.\")\n",
    "      # 대화형 환경(노트북 등)에서는 다음을 실행해야 할 수 있습니다:\n",
    "      # await main()\n",
    "  else:\n",
    "      raise e  # 그 외 런타임 오류는 다시 발생시킵니다."
   ]
  },
  {
   "cell_type": "markdown",
   "id": "4b985845",
   "metadata": {},
   "source": [
    "### 예제 3  \n",
    "생략"
   ]
  },
  {
   "cell_type": "code",
   "execution_count": null,
   "id": "116e70a6",
   "metadata": {},
   "outputs": [],
   "source": [
    "# import asyncio\n",
    "# from google.genai import types\n",
    "# from google.adk import agents\n",
    "# from google.adk.runners import Runner\n",
    "# from google.adk.sessions import InMemorySessionService\n",
    "# import os\n",
    "\n",
    "# # --- Configuration ---\n",
    "# # Ensure you have set your GOOGLE_API_KEY and DATASTORE_ID environment variables\n",
    "# # For example:\n",
    "# # os.environ[\"GOOGLE_API_KEY\"] = \"YOUR_API_KEY\"\n",
    "# # os.environ[\"DATASTORE_ID\"] = \"YOUR_DATASTORE_ID\"\n",
    "# DATASTORE_ID = os.environ.get(\"DATASTORE_ID\")\n",
    "\n",
    "# # --- Application Constants ---\n",
    "# APP_NAME = \"vsearch_app\"\n",
    "# USER_ID = \"user_123\"  # Example User ID\n",
    "# SESSION_ID = \"session_456\"  # Example Session ID\n",
    "\n",
    "# # --- Agent Definition (Updated with the newer model from the guide) ---\n",
    "# vsearch_agent = agents.VSearchAgent(\n",
    "#     name=\"q2_strategy_vsearch_agent\",\n",
    "#     description=\"Answers questions about Q2 strategy documents using Vertex AI Search.\",\n",
    "#     model=\"gemini-2.0-flash-exp\",  # Updated model based on the guide's examples\n",
    "#     datastore_id=DATASTORE_ID,\n",
    "#     model_parameters={\"temperature\": 0.0}\n",
    "# )\n",
    "\n",
    "# # --- Runner and Session Initialization ---\n",
    "# runner = Runner(\n",
    "#     agent=vsearch_agent,\n",
    "#     app_name=APP_NAME,\n",
    "#     session_service=InMemorySessionService(),\n",
    "# )\n",
    "\n",
    "# # --- Agent Invocation Logic ---\n",
    "# async def call_vsearch_agent_async(query: str):\n",
    "#     \"\"\"Initializes a session and streams the agent's response.\"\"\"\n",
    "#     print(f\"User: {query}\")\n",
    "#     print(\"Agent: \", end=\"\", flush=True)\n",
    "#     try:\n",
    "#         # Construct the message content correctly\n",
    "#         content = types.Content(role='user', parts=[types.Part(text=query)])\n",
    "#         # Process events as they arrive from the asynchronous runner\n",
    "#         async for event in runner.run_async(\n",
    "#             user_id=USER_ID,\n",
    "#             session_id=SESSION_ID,\n",
    "#             new_message=content\n",
    "#         ):\n",
    "#             # For token-by-token streaming of the response text\n",
    "#             if hasattr(event, 'content_part_delta') and event.content_part_delta:\n",
    "#                 print(event.content_part_delta.text, end=\"\", flush=True)\n",
    "#             # Process the final response and its associated metadata\n",
    "#             if event.is_final_response():\n",
    "#                 print()  # Newline after the streaming response\n",
    "#                 if event.grounding_metadata:\n",
    "#                     print(f\"  (Source Attributions: {len(event.grounding_metadata.grounding_attributions)} sources found)\")\n",
    "#                 else:\n",
    "#                     print(\"  (No grounding metadata found)\")\n",
    "#                 print(\"-\" * 30)\n",
    "#     except Exception as e:\n",
    "#         print(f\"\\nAn error occurred: {e}\")\n",
    "#         print(\"Please ensure your datastore ID is correct and that the service account has the necessary permissions.\")\n",
    "#         print(\"-\" * 30)\n",
    "\n",
    "# # --- Run Example ---\n",
    "# async def run_vsearch_example():\n",
    "#     # Replace with a question relevant to YOUR datastore content\n",
    "#     await call_vsearch_agent_async(\"Summarize the main points about the Q2 strategy document.\")\n",
    "#     await call_vsearch_agent_async(\"What safety procedures are mentioned for lab X?\")\n",
    "\n",
    "# # --- Execution ---\n",
    "# if __name__ == \"__main__\":\n",
    "#     if not DATASTORE_ID:\n",
    "#         print(\"Error: DATASTORE_ID environment variable is not set.\")\n",
    "#     else:\n",
    "#         try:\n",
    "#             asyncio.run(run_vsearch_example())\n",
    "#         except RuntimeError as e:\n",
    "#             # This handles cases where asyncio.run is called in an environment\n",
    "#             # that already has a running event loop (like a Jupyter notebook).\n",
    "#             if \"cannot be called from a running event loop\" in str(e):\n",
    "#                 print(\"Skipping execution in a running loop. Please run this script directly.\")\n",
    "#             else:\n",
    "#                 raise e"
   ]
  }
 ],
 "metadata": {
  "kernelspec": {
   "display_name": ".venv",
   "language": "python",
   "name": "python3"
  },
  "language_info": {
   "codemirror_mode": {
    "name": "ipython",
    "version": 3
   },
   "file_extension": ".py",
   "mimetype": "text/x-python",
   "name": "python",
   "nbconvert_exporter": "python",
   "pygments_lexer": "ipython3",
   "version": "3.12.9"
  }
 },
 "nbformat": 4,
 "nbformat_minor": 5
}
