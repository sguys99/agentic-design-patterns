{
 "cells": [
  {
   "cell_type": "markdown",
   "id": "fc5e9670",
   "metadata": {},
   "source": [
    "## 6. Planning(crewai)"
   ]
  },
  {
   "cell_type": "markdown",
   "id": "bf08abb4",
   "metadata": {},
   "source": [
    "<img style=\"float: right;\" src=\"../img/flex-logo.png\" width=\"120\"><br>"
   ]
  },
  {
   "cell_type": "markdown",
   "id": "0ae315a2",
   "metadata": {},
   "source": [
    "<div style=\"text-align: right\"> <b>your name</b></div>\n",
    "<div style=\"text-align: right\"> Initial issue : 2025.10.02 </div>\n",
    "<div style=\"text-align: right\"> last update : 2025.10.02 </div>"
   ]
  },
  {
   "cell_type": "markdown",
   "id": "c33149ca",
   "metadata": {},
   "source": [
    "개정 이력  \n",
    "- `2025.10.02` : 노트북 "
   ]
  },
  {
   "cell_type": "code",
   "execution_count": 1,
   "id": "d65f19f2",
   "metadata": {},
   "outputs": [
    {
     "data": {
      "text/plain": [
       "True"
      ]
     },
     "execution_count": 1,
     "metadata": {},
     "output_type": "execute_result"
    }
   ],
   "source": [
    "import os\n",
    "from dotenv import load_dotenv\n",
    "load_dotenv()"
   ]
  },
  {
   "cell_type": "code",
   "execution_count": 2,
   "id": "aa3a71df",
   "metadata": {},
   "outputs": [],
   "source": [
    "import os\n",
    "from dotenv import load_dotenv\n",
    "from crewai import Agent, Task, Crew, Process\n",
    "from langchain_openai import ChatOpenAI"
   ]
  },
  {
   "cell_type": "code",
   "execution_count": 3,
   "id": "a9b9f92b",
   "metadata": {},
   "outputs": [],
   "source": [
    "llm = ChatOpenAI(model=\"gpt-4-turbo\")"
   ]
  },
  {
   "cell_type": "markdown",
   "id": "d004626d",
   "metadata": {},
   "source": [
    "### 1. 에이전트 정의"
   ]
  },
  {
   "cell_type": "code",
   "execution_count": 4,
   "id": "76d94d9d",
   "metadata": {},
   "outputs": [],
   "source": [
    "planner_writer_agent = Agent(\n",
    "    role='기사 기획 및 작성자',\n",
    "    goal='지정된 주제에 대해 간결하고 매력적인 요약을 기획하고 작성합니다.',\n",
    "    backstory=(\n",
    "        '당신은 전문 테크니컬 라이터이자 콘텐츠 전략가입니다. '\n",
    "        '작성에 앞서 명확하고 실행 가능한 계획을 수립하는 데 강점이 있으며, '\n",
    "        '최종 요약이 유익하고 소화하기 쉽게 되도록 보장합니다.'\n",
    "    ),\n",
    "    verbose=True,\n",
    "    allow_delegation=False,\n",
    "    llm=llm  # 에이전트에 사용할 특정 LLM 할당\n",
    ")"
   ]
  },
  {
   "cell_type": "markdown",
   "id": "e63fd9d2",
   "metadata": {},
   "source": [
    "### 2. Task 정의"
   ]
  },
  {
   "cell_type": "code",
   "execution_count": 5,
   "id": "49c4e7ca",
   "metadata": {},
   "outputs": [],
   "source": [
    "topic = \"AI에서 강화학습의 중요성\"\n",
    "high_level_task = Task(\n",
    "    description=(\n",
    "        f\"1. 다음 주제에 대한 요약 계획을 글머리표로 작성하세요: '{topic}'.\\n\"\n",
    "        \"   - 계획에는 다뤄야 할 핵심 포인트 3~5개를 포함하세요.\\n\"\n",
    "        \"2. 계획을 바탕으로 간결한 요약(200~300단어)을 작성하세요.\\n\"\n",
    "        \"   - 요약은 흥미롭고 유익해야 합니다.\\n\"\n",
    "        \"   - 명확한 언어와 구조를 사용하세요.\\n\"\n",
    "        \"출력 형식:\\n\"\n",
    "        \"**계획:**\\n\"\n",
    "        \"- 포인트 1\\n\"\n",
    "        \"- 포인트 2\\n\"\n",
    "        \"- 포인트 3\\n\"\n",
    "        \"**요약:**\\n\"\n",
    "        \"[여기에 요약 작성]\"\n",
    "    ),\n",
    "    expected_output=\"계획과 요약이 포함된 구조화된 출력.\",\n",
    "    agent=planner_writer_agent,\n",
    ")"
   ]
  },
  {
   "cell_type": "markdown",
   "id": "afc81097",
   "metadata": {},
   "source": [
    "### 3. Crew 구성"
   ]
  },
  {
   "cell_type": "code",
   "execution_count": 6,
   "id": "ce5190a9",
   "metadata": {},
   "outputs": [],
   "source": [
    "crew = Crew(\n",
    "    agents=[planner_writer_agent],\n",
    "    tasks=[high_level_task],\n",
    "    process=Process.sequential,  # 작성 전에 기획을 보장하기 위한 순차 프로세스\n",
    "    verbose=True\n",
    ")"
   ]
  },
  {
   "cell_type": "markdown",
   "id": "b01dea90",
   "metadata": {},
   "source": [
    "### 4. 테스트"
   ]
  },
  {
   "cell_type": "code",
   "execution_count": 7,
   "id": "af043e16",
   "metadata": {},
   "outputs": [
    {
     "name": "stdout",
     "output_type": "stream",
     "text": [
      "\u001b[1m\u001b[95m# Agent:\u001b[00m \u001b[1m\u001b[92m기사 기획 및 작성자\u001b[00m\n",
      "\u001b[95m## Task:\u001b[00m \u001b[92m1. 다음 주제에 대한 요약 계획을 글머리표로 작성하세요: 'AI에서 강화학습의 중요성'.\n",
      "   - 계획에는 다뤄야 할 핵심 포인트 3~5개를 포함하세요.\n",
      "2. 계획을 바탕으로 간결한 요약(200~300단어)을 작성하세요.\n",
      "   - 요약은 흥미롭고 유익해야 합니다.\n",
      "   - 명확한 언어와 구조를 사용하세요.\n",
      "출력 형식:\n",
      "**계획:**\n",
      "- 포인트 1\n",
      "- 포인트 2\n",
      "- 포인트 3\n",
      "**요약:**\n",
      "[여기에 요약 작성]\u001b[00m\n",
      "\n",
      "\n",
      "\u001b[1m\u001b[95m# Agent:\u001b[00m \u001b[1m\u001b[92m기사 기획 및 작성자\u001b[00m\n",
      "\u001b[95m## Final Answer:\u001b[00m \u001b[92m\n",
      "**계획:**\n",
      "- 포인트 1: 강화학습이란 무엇인가: 정의 및 기본 개념 소개\n",
      "- 포인트 2: 강화학습의 중요성과 그 응용 분야: 게임, 로보틱스, 자율주행 차 등\n",
      "- 포인트 3: 강화학습의 기술적 도전 과제 및 현재 연구 동향\n",
      "- 포인트 4: 실제 사례 연구로 본 강화학습의 성공 예시\n",
      "- 포인트 5: 미래 기술 발전에 대한 강화학습의 잠재적 영향\n",
      "\n",
      "**요약:**\n",
      "강화학습은 인공지능 분야에서 중요한 하위 집합으로, 기계가 환경과 상호 작용하며 보상을 통해 스스로 학습하는 방법입니다. 이 기술은 특히 복잡한 문제 해결과 의사결정 과정에서 큰 잠재력을 보여주고 있습니다.\n",
      "\n",
      "강화학습의 중요성은 그 다양한 응용 분야에서 뚜렷이 나타납니다. 예를 들어, AlphaGo와 같은 프로그램은 이러한 기술을 사용하여 세계 최고의 바둑 선수들을 이겼고, 로보틱스 분야에서는 로봇이 스스로 걷고, 조작하는 능력을 개발하는 데 사용되고 있습니다. 또한, 자율주행 차량은 강화학습을 통해 실시간으로 교통 상황을 파악하고 최적의 경로를 선택하는 데 필수적인 기술입니다.\n",
      "\n",
      "이 기술의 도전 과제는 크게 두 가지입니다. 첫째, 계산 비용이 높아 대규모 환경에서의 학습 속도가 느립니다. 둘째, 이상적인 보상 체계 설계의 어려움으로 인해 기대하는 학습 결과를 얻기가 쉽지 않습니다. 이런 문제에도 불구하고 연구자들은 더 효율적인 알고리즘 개발을 위해 지속적으로 노력하고 있습니다.\n",
      "\n",
      "강화학습은 미래 기술의 발전을 크게 이끌 것으로 예상됩니다. 더 나은 알고리즘과 컴퓨팅 파워의 발전으로, 강화학습은 인공지능의 더욱 깊은 이해와 함께 다양한 산업 분야에서 혁신을 가속화할 잠재력을 가지고 있습니다. 이를 통해 우리는 더 스마트하고 자율적인 기술 솔루션을 기대할 수 있습니다.\u001b[00m\n",
      "\n",
      "\n",
      "\n",
      "\n",
      "---\n",
      "## 작업 결과 ##\n",
      "---\n",
      "**계획:**\n",
      "- 포인트 1: 강화학습이란 무엇인가: 정의 및 기본 개념 소개\n",
      "- 포인트 2: 강화학습의 중요성과 그 응용 분야: 게임, 로보틱스, 자율주행 차 등\n",
      "- 포인트 3: 강화학습의 기술적 도전 과제 및 현재 연구 동향\n",
      "- 포인트 4: 실제 사례 연구로 본 강화학습의 성공 예시\n",
      "- 포인트 5: 미래 기술 발전에 대한 강화학습의 잠재적 영향\n",
      "\n",
      "**요약:**\n",
      "강화학습은 인공지능 분야에서 중요한 하위 집합으로, 기계가 환경과 상호 작용하며 보상을 통해 스스로 학습하는 방법입니다. 이 기술은 특히 복잡한 문제 해결과 의사결정 과정에서 큰 잠재력을 보여주고 있습니다.\n",
      "\n",
      "강화학습의 중요성은 그 다양한 응용 분야에서 뚜렷이 나타납니다. 예를 들어, AlphaGo와 같은 프로그램은 이러한 기술을 사용하여 세계 최고의 바둑 선수들을 이겼고, 로보틱스 분야에서는 로봇이 스스로 걷고, 조작하는 능력을 개발하는 데 사용되고 있습니다. 또한, 자율주행 차량은 강화학습을 통해 실시간으로 교통 상황을 파악하고 최적의 경로를 선택하는 데 필수적인 기술입니다.\n",
      "\n",
      "이 기술의 도전 과제는 크게 두 가지입니다. 첫째, 계산 비용이 높아 대규모 환경에서의 학습 속도가 느립니다. 둘째, 이상적인 보상 체계 설계의 어려움으로 인해 기대하는 학습 결과를 얻기가 쉽지 않습니다. 이런 문제에도 불구하고 연구자들은 더 효율적인 알고리즘 개발을 위해 지속적으로 노력하고 있습니다.\n",
      "\n",
      "강화학습은 미래 기술의 발전을 크게 이끌 것으로 예상됩니다. 더 나은 알고리즘과 컴퓨팅 파워의 발전으로, 강화학습은 인공지능의 더욱 깊은 이해와 함께 다양한 산업 분야에서 혁신을 가속화할 잠재력을 가지고 있습니다. 이를 통해 우리는 더 스마트하고 자율적인 기술 솔루션을 기대할 수 있습니다.\n"
     ]
    }
   ],
   "source": [
    "result = crew.kickoff()\n",
    "print(\"\\n\\n---\\n## 작업 결과 ##\\n---\")\n",
    "print(result)"
   ]
  },
  {
   "cell_type": "code",
   "execution_count": null,
   "id": "42d47a5f",
   "metadata": {},
   "outputs": [],
   "source": []
  }
 ],
 "metadata": {
  "kernelspec": {
   "display_name": ".venv",
   "language": "python",
   "name": "python3"
  },
  "language_info": {
   "codemirror_mode": {
    "name": "ipython",
    "version": 3
   },
   "file_extension": ".py",
   "mimetype": "text/x-python",
   "name": "python",
   "nbconvert_exporter": "python",
   "pygments_lexer": "ipython3",
   "version": "3.12.9"
  }
 },
 "nbformat": 4,
 "nbformat_minor": 5
}
