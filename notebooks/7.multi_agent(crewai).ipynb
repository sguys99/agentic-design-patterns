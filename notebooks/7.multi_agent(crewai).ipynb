{
 "cells": [
  {
   "cell_type": "markdown",
   "id": "fc5e9670",
   "metadata": {},
   "source": [
    "## 7. multi_agent(crewai)"
   ]
  },
  {
   "cell_type": "markdown",
   "id": "bf08abb4",
   "metadata": {},
   "source": [
    "<img style=\"float: right;\" src=\"../img/flex-logo.png\" width=\"120\"><br>"
   ]
  },
  {
   "cell_type": "markdown",
   "id": "0ae315a2",
   "metadata": {},
   "source": [
    "<div style=\"text-align: right\"> <b>your name</b></div>\n",
    "<div style=\"text-align: right\"> Initial issue : 2025.10.02 </div>\n",
    "<div style=\"text-align: right\"> last update : 2025.10.02 </div>"
   ]
  },
  {
   "cell_type": "markdown",
   "id": "c33149ca",
   "metadata": {},
   "source": [
    "개정 이력  \n",
    "- `2025.10.02` : 노트북 "
   ]
  },
  {
   "cell_type": "code",
   "execution_count": 1,
   "id": "d65f19f2",
   "metadata": {},
   "outputs": [
    {
     "data": {
      "text/plain": [
       "True"
      ]
     },
     "execution_count": 1,
     "metadata": {},
     "output_type": "execute_result"
    }
   ],
   "source": [
    "import os\n",
    "from dotenv import load_dotenv\n",
    "load_dotenv()"
   ]
  },
  {
   "cell_type": "code",
   "execution_count": 2,
   "id": "aa3a71df",
   "metadata": {},
   "outputs": [],
   "source": [
    "import os\n",
    "from dotenv import load_dotenv\n",
    "from crewai import Agent, Task, Crew, Process\n",
    "from langchain_google_genai import ChatGoogleGenerativeAI"
   ]
  },
  {
   "cell_type": "code",
   "execution_count": 3,
   "id": "a9b9f92b",
   "metadata": {},
   "outputs": [],
   "source": [
    "def setup_environment():\n",
    "    \"\"\"Loads environment variables and checks for the required API key.\"\"\"\n",
    "    load_dotenv()\n",
    "    if not os.getenv(\"GOOGLE_API_KEY\"):\n",
    "        raise ValueError(\"GOOGLE_API_KEY not found. Please set it in your .env file.\")"
   ]
  },
  {
   "cell_type": "markdown",
   "id": "d004626d",
   "metadata": {},
   "source": [
    "### 1. 메인함수 구현"
   ]
  },
  {
   "cell_type": "code",
   "execution_count": 4,
   "id": "9bd04198",
   "metadata": {},
   "outputs": [],
   "source": [
    "def main():\n",
    "    \"\"\"\n",
    "    최신 Gemini 모델을 사용하여 콘텐츠 제작용 AI 크루를 초기화하고 실행합니다.\n",
    "    \"\"\"\n",
    "    setup_environment()\n",
    "    # 사용할 언어 모델을 정의합니다.\n",
    "    # 더 나은 성능과 기능을 위해 Gemini 2.0 시리즈의 모델로 업데이트되었습니다.\n",
    "    # 최첨단(프리뷰) 기능이 필요하다면 \"gemini-2.5-flash\"를 사용할 수 있습니다.\n",
    "    llm = ChatGoogleGenerativeAI(model=\"gemini-2.0-flash\")\n",
    "\n",
    "    # 역할과 목표가 명확한 에이전트를 정의합니다\n",
    "    researcher = Agent(\n",
    "        role='수석 리서치 애널리스트',\n",
    "        goal='AI 최신 트렌드를 찾아 요약합니다.',\n",
    "        backstory=\"당신은 핵심 트렌드를 파악하고 정보를 종합하는 데 능숙한 숙련된 리서치 애널리스트입니다.\",\n",
    "        verbose=True,\n",
    "        allow_delegation=False,\n",
    "    )\n",
    "\n",
    "    writer = Agent(\n",
    "        role='수석 테크니컬 라이터',\n",
    "        goal='제공된 리서치를 바탕으로 흥미로운 블로그 글을 작성합니다.',\n",
    "        backstory=\"당신은 복잡한 정보를 명확하고 매력적인 콘텐츠로 바꾸는 능력을 갖춘 숙련된 라이터입니다.\",\n",
    "        verbose=True,\n",
    "        allow_delegation=False,\n",
    "    )\n",
    "\n",
    "    # 작업(Task)을 정의합니다\n",
    "    research_task = Task(\n",
    "        description=\"AI 최신 트렌드를 조사하고 핵심 발견을 요약합니다.\",\n",
    "        expected_output=\"상위 5가지 AI 트렌드 요약.\",\n",
    "        agent=researcher,\n",
    "    )\n",
    "\n",
    "    writing_task = Task(\n",
    "        description=\"리서치 요약을 기반으로 블로그 글을 작성합니다.\",\n",
    "        expected_output=\"AI 트렌드에 대한 완성된 블로그 글.\",\n",
    "        agent=writer,\n",
    "    )\n",
    "\n",
    "    # 크루(Crew)를 생성합니다\n",
    "    crew = Crew(\n",
    "        agents=[researcher, writer],\n",
    "        tasks=[research_task, writing_task],\n",
    "        process=Process.sequential,\n",
    "        verbose=True,\n",
    "        llm=llm\n",
    "    )\n",
    "\n",
    "    # 크루 실행\n",
    "    result = crew.kickoff()\n",
    "    print(\"\\n\\n---\\n## 최종 블로그 글 ##\\n---\")\n",
    "    print(result)"
   ]
  },
  {
   "cell_type": "code",
   "execution_count": 5,
   "id": "42d47a5f",
   "metadata": {},
   "outputs": [
    {
     "name": "stderr",
     "output_type": "stream",
     "text": [
      "WARNING: All log messages before absl::InitializeLog() is called are written to STDERR\n",
      "E0000 00:00:1760601036.131426 25653488 alts_credentials.cc:93] ALTS creds ignored. Not running on GCP and untrusted ALTS is not enabled.\n"
     ]
    },
    {
     "name": "stdout",
     "output_type": "stream",
     "text": [
      "\u001b[1m\u001b[95m# Agent:\u001b[00m \u001b[1m\u001b[92m수석 리서치 애널리스트\u001b[00m\n",
      "\u001b[95m## Task:\u001b[00m \u001b[92mAI 최신 트렌드를 조사하고 핵심 발견을 요약합니다.\u001b[00m\n",
      "\n",
      "\n",
      "\u001b[1m\u001b[95m# Agent:\u001b[00m \u001b[1m\u001b[92m수석 리서치 애널리스트\u001b[00m\n",
      "\u001b[95m## Final Answer:\u001b[00m \u001b[92m\n",
      "1. **Generative AI 혁명**: 최근 AI의 발전에 있어 가장 두드러진 트렌드는 생성적 적대 신경망(GANs) 및 자연어 처리(NLP) 모델을 활용한 생성 AI의 부상이다. 이 기술은 텍스트, 이미지, 음악 및 기타 콘텐츠를 생성하여 창작의 새로운 경지를 열고 있으며, 기업들은 이를 활용하여 마케팅 콘텐츠, 제품 디자인 및 그래픽 디자인 등 다양한 분야에서 혁신을 이루고 있다. OpenAI의 ChatGPT와 DALL-E가 대표적인 예로, 오는 2024년까지 더욱 발전된 버전들이 출시될 예정으로 기대된다.\n",
      "\n",
      "2. **AI의 민주화**: AI 기술의 접근성 증가와 클라우드 기반 서비스의 성장으로 인해, AI 관련 도구와 플랫폼의 사용이 더 널리 퍼지고 있다. 이제 작은 스타트업에서 대기업까지 누구나 AI를 쉽게 활용할 수 있게 되었으며, 이는 다양한 산업에서 혁신을 촉진하고 있다. 예를 들어, 노코드 및 로우코드 플랫폼들은 개발자뿐만 아니라 비개발자들도 AI 모델을 구축하고 활용할 수 있도록 돕고 있다.\n",
      "\n",
      "3. **윤리적 AI 개발**: AI 기술의 발전과 더불어 윤리적인 사용이 중요시되고 있다. 기업과 연구자들은 데이터 프라이버시, 편향 문제 및 투명성을 고려하여 윤리적인 AI 시스템을 개발하려는 노력을 강화하고 있다. 많은 기관들이 AI 윤리 기준을 마련하고, 이를 준수하기 위해 미리 검토를 받는 등의 조치를 강화하고 있다. 이는 소비자의 신뢰를 높이고, AI의 사회적 수용성을 증가시키는 데 기여하고 있다.\n",
      "\n",
      "4. **AI와 인간 협업**: AI는 단순한 자동화를 넘어서, 인간의 업무를 보완하고 협업하는 방향으로 발전하고 있다. AI 기반 도구들은 반복적이고 시간 소모적인 작업을 자동화하여 인간이 더 창의적이고 전략적인 업무에 집중할 수 있게 해준다. 예를 들어, AI는 데이터 분석, 고객 서비스 지원 및 의료 진단 등에 있어 인간의 결정을 지원하고, 이는 효율성 및 정확성을 높이는 데 기여하고 있다.\n",
      "\n",
      "5. **AI 기반의 예측 분석**: 데이터 분석에 대한 수요가 증가하면서 AI를 활용한 예측 분석이 많은 산업에서 중요한 역할을 하고 있다. 기업들은 AI 알고리즘을 사용하여 시장 동향, 소비자 행동 및 운영 효율성을 예측하고 있으며, 이는 전략적 결정 및 자원 배분에 필수적인 정보를 제공하고 있다. 금융, 헬스케어 및 리테일 업종에서 이러한 패턴이 특히 두드러지며, 이는 경쟁력을 높이는 데 큰 도움이 되고 있다.\n",
      "\n",
      "이와 같은 트렌드들은 AI 기술이 사회에 미치는 영향력을 지속적으로 확장하고 있으며, 앞으로 몇 년 동안 더욱 다양한 형태로 발전할 것으로 기대된다.\u001b[00m\n",
      "\n",
      "\n",
      "\u001b[1m\u001b[95m# Agent:\u001b[00m \u001b[1m\u001b[92m수석 테크니컬 라이터\u001b[00m\n",
      "\u001b[95m## Task:\u001b[00m \u001b[92m리서치 요약을 기반으로 블로그 글을 작성합니다.\u001b[00m\n",
      "\n",
      "\n",
      "\u001b[1m\u001b[95m# Agent:\u001b[00m \u001b[1m\u001b[92m수석 테크니컬 라이터\u001b[00m\n",
      "\u001b[95m## Final Answer:\u001b[00m \u001b[92m\n",
      "### AI 트렌드: 생성적 혁신과 미래의 협업\n",
      "\n",
      "인공지능(AI)은 단순한 기술적 발전을 넘어서, 우리의 삶을 혁신하고 또 다른 가능성의 지평을 여는 중요한 요소로 자리 잡고 있습니다. 특히 최근 몇 년 사이에 등장한 주요 트렌드들은 AI가 어떻게 사회를 변화시키고 있는지를 보여주고 있습니다. 이번 블로그 글에서는 이러한 AI 트렌드를 자세히 살펴보겠습니다.\n",
      "\n",
      "#### 1. Generative AI 혁명\n",
      "\n",
      "최근 AI의 눈부신 발전 중 가장 두드러진 트렌드는 생성적 적대 신경망(GANs) 및 자연어 처리(NLP) 모델을 활용한 생성 AI입니다. 이 기술은 텍스트, 이미지, 음악 등 다양한 콘텐츠를 생성할 수 있는 능력을 제공합니다. OpenAI의 ChatGPT와 DALL-E는 이러한 생성 AI의 대표적인 사례로, 앞으로 2024년까지 더욱 발전된 버전들이 출시될 예정입니다. 기업들은 이를 활용하여 마케팅 콘텐츠, 제품 디자인 및 그래픽 디자인 등에서 혁신을 이루고 있으며, 창작의 경계를 확장하고 있습니다. 예를 들어, 자동차 디자인 과정에서 AI가 제안한 혁신적인 형태가 실제 모델에 반영되기도 하였습니다.\n",
      "\n",
      "#### 2. AI의 민주화\n",
      "\n",
      "또한, AI 기술의 민주화도 주목할 만한 트렌드입니다. 클라우드 기반 서비스의 성장으로, AI 관련 도구와 플랫폼이 쉽게 접근 가능해지면서 작은 스타트업에서 대기업까지 누구나 AI를 간편하게 활용할 수 있게 되었습니다. 특히 노코드 및 로우코드 플랫폼들은 비개발자들도 AI 모델을 구축하고 활용할 수 있도록 돕고 있습니다. 이는 다양한 산업에서의 혁신을 가속화시키며, 각 기업들이 AI 기술을 통해 경쟁력을 확보할 수 있게 합니다.\n",
      "\n",
      "#### 3. 윤리적 AI 개발\n",
      "\n",
      "AI가 사회에 미치는 영향이 커짐에 따라, 윤리적 AI 개발이 중요한 이슈로 대두되고 있습니다. 데이터 프라이버시, 편향 문제 및 투명성을 고려한 윤리적인 AI 시스템을 개발하려는 노력이 계속되고 있습니다. 많은 기업과 연구자들이 AI 윤리 기준을 마련하고, 이를 준수하기 위해 사전 검토 절차를 도입하는 등의 노력을 기울이고 있습니다. 이러한 윤리적 접근은 소비자의 신뢰를 구축하고 AI의 사회적 수용성을 높이는 데 기여하고 있습니다.\n",
      "\n",
      "#### 4. AI와 인간 협업\n",
      "\n",
      "AI는 단순한 자동화의 역할을 넘어서, 인간의 업무를 보완하고 협업하는 방향으로 계속 발전하고 있습니다. AI 기반 도구들은 반복적이고 시간이 소모되는 작업을 자동화하여 인간이 더 창의적이고 전략적인 일에 집중할 수 있게 해줍니다. 예를 들어, 의료 분야에서는 AI가 진단을 지원하여 의료진이 보다 정확하고 신속하게 환자를 치료할 수 있도록 돕고 있습니다. 이는 작업의 효율성을 높이며 결과적으로 더 나은 서비스 제공으로 이어집니다.\n",
      "\n",
      "#### 5. AI 기반의 예측 분석\n",
      "\n",
      "마지막으로, AI를 활용한 예측 분석도 많은 산업에서 중요성을 더해가고 있습니다. 기업들은 AI 알고리즘을 통해 시장 동향, 소비자 행동 및 운영 효율성을 예측하고 있으며, 이는 전략적 결정 및 자원 배분에 필수적인 정보를 제공합니다. 금융, 헬스케어, 리테일 업종 등에서 이러한 예측 분석의 활용이 두드러지며, 경쟁력을 높이는 데 큰 도움이 되고 있습니다.\n",
      "\n",
      "이렇듯 AI 기술은 사회에 미치는 영향력을 지속적으로 확장하고 있으며, 앞으로 몇 년 동안도 더욱 다양한 형태로 발전할 것으로 기대됩니다. 이러한 트렌드들은 기업이 AI를 활용하여 효율성을 높이고, 혁신적인 경로를 모색하는 데 중요한 역할을 하고 있습니다. AI의 발전과 함께 변화하는 시대를 기꺼이 받아들이고, 적극적으로 참여하여 새로운 기회를 창출해 나가는 것이 중요합니다.\u001b[00m\n",
      "\n",
      "\n",
      "\n",
      "\n",
      "---\n",
      "## 최종 블로그 글 ##\n",
      "---\n",
      "### AI 트렌드: 생성적 혁신과 미래의 협업\n",
      "\n",
      "인공지능(AI)은 단순한 기술적 발전을 넘어서, 우리의 삶을 혁신하고 또 다른 가능성의 지평을 여는 중요한 요소로 자리 잡고 있습니다. 특히 최근 몇 년 사이에 등장한 주요 트렌드들은 AI가 어떻게 사회를 변화시키고 있는지를 보여주고 있습니다. 이번 블로그 글에서는 이러한 AI 트렌드를 자세히 살펴보겠습니다.\n",
      "\n",
      "#### 1. Generative AI 혁명\n",
      "\n",
      "최근 AI의 눈부신 발전 중 가장 두드러진 트렌드는 생성적 적대 신경망(GANs) 및 자연어 처리(NLP) 모델을 활용한 생성 AI입니다. 이 기술은 텍스트, 이미지, 음악 등 다양한 콘텐츠를 생성할 수 있는 능력을 제공합니다. OpenAI의 ChatGPT와 DALL-E는 이러한 생성 AI의 대표적인 사례로, 앞으로 2024년까지 더욱 발전된 버전들이 출시될 예정입니다. 기업들은 이를 활용하여 마케팅 콘텐츠, 제품 디자인 및 그래픽 디자인 등에서 혁신을 이루고 있으며, 창작의 경계를 확장하고 있습니다. 예를 들어, 자동차 디자인 과정에서 AI가 제안한 혁신적인 형태가 실제 모델에 반영되기도 하였습니다.\n",
      "\n",
      "#### 2. AI의 민주화\n",
      "\n",
      "또한, AI 기술의 민주화도 주목할 만한 트렌드입니다. 클라우드 기반 서비스의 성장으로, AI 관련 도구와 플랫폼이 쉽게 접근 가능해지면서 작은 스타트업에서 대기업까지 누구나 AI를 간편하게 활용할 수 있게 되었습니다. 특히 노코드 및 로우코드 플랫폼들은 비개발자들도 AI 모델을 구축하고 활용할 수 있도록 돕고 있습니다. 이는 다양한 산업에서의 혁신을 가속화시키며, 각 기업들이 AI 기술을 통해 경쟁력을 확보할 수 있게 합니다.\n",
      "\n",
      "#### 3. 윤리적 AI 개발\n",
      "\n",
      "AI가 사회에 미치는 영향이 커짐에 따라, 윤리적 AI 개발이 중요한 이슈로 대두되고 있습니다. 데이터 프라이버시, 편향 문제 및 투명성을 고려한 윤리적인 AI 시스템을 개발하려는 노력이 계속되고 있습니다. 많은 기업과 연구자들이 AI 윤리 기준을 마련하고, 이를 준수하기 위해 사전 검토 절차를 도입하는 등의 노력을 기울이고 있습니다. 이러한 윤리적 접근은 소비자의 신뢰를 구축하고 AI의 사회적 수용성을 높이는 데 기여하고 있습니다.\n",
      "\n",
      "#### 4. AI와 인간 협업\n",
      "\n",
      "AI는 단순한 자동화의 역할을 넘어서, 인간의 업무를 보완하고 협업하는 방향으로 계속 발전하고 있습니다. AI 기반 도구들은 반복적이고 시간이 소모되는 작업을 자동화하여 인간이 더 창의적이고 전략적인 일에 집중할 수 있게 해줍니다. 예를 들어, 의료 분야에서는 AI가 진단을 지원하여 의료진이 보다 정확하고 신속하게 환자를 치료할 수 있도록 돕고 있습니다. 이는 작업의 효율성을 높이며 결과적으로 더 나은 서비스 제공으로 이어집니다.\n",
      "\n",
      "#### 5. AI 기반의 예측 분석\n",
      "\n",
      "마지막으로, AI를 활용한 예측 분석도 많은 산업에서 중요성을 더해가고 있습니다. 기업들은 AI 알고리즘을 통해 시장 동향, 소비자 행동 및 운영 효율성을 예측하고 있으며, 이는 전략적 결정 및 자원 배분에 필수적인 정보를 제공합니다. 금융, 헬스케어, 리테일 업종 등에서 이러한 예측 분석의 활용이 두드러지며, 경쟁력을 높이는 데 큰 도움이 되고 있습니다.\n",
      "\n",
      "이렇듯 AI 기술은 사회에 미치는 영향력을 지속적으로 확장하고 있으며, 앞으로 몇 년 동안도 더욱 다양한 형태로 발전할 것으로 기대됩니다. 이러한 트렌드들은 기업이 AI를 활용하여 효율성을 높이고, 혁신적인 경로를 모색하는 데 중요한 역할을 하고 있습니다. AI의 발전과 함께 변화하는 시대를 기꺼이 받아들이고, 적극적으로 참여하여 새로운 기회를 창출해 나가는 것이 중요합니다.\n"
     ]
    }
   ],
   "source": [
    "if __name__ == \"__main__\":\n",
    "    main()"
   ]
  },
  {
   "cell_type": "code",
   "execution_count": null,
   "id": "e693c7c3",
   "metadata": {},
   "outputs": [],
   "source": []
  }
 ],
 "metadata": {
  "kernelspec": {
   "display_name": ".venv",
   "language": "python",
   "name": "python3"
  },
  "language_info": {
   "codemirror_mode": {
    "name": "ipython",
    "version": 3
   },
   "file_extension": ".py",
   "mimetype": "text/x-python",
   "name": "python",
   "nbconvert_exporter": "python",
   "pygments_lexer": "ipython3",
   "version": "3.12.9"
  }
 },
 "nbformat": 4,
 "nbformat_minor": 5
}
