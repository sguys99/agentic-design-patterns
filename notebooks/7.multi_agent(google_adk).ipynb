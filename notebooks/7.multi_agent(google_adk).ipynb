{
 "cells": [
  {
   "cell_type": "markdown",
   "id": "fc5e9670",
   "metadata": {},
   "source": [
    "## 7. multi_agent(google_adk)"
   ]
  },
  {
   "cell_type": "markdown",
   "id": "bf08abb4",
   "metadata": {},
   "source": [
    "<img style=\"float: right;\" src=\"../img/flex-logo.png\" width=\"120\"><br>"
   ]
  },
  {
   "cell_type": "markdown",
   "id": "0ae315a2",
   "metadata": {},
   "source": [
    "<div style=\"text-align: right\"> <b>your name</b></div>\n",
    "<div style=\"text-align: right\"> Initial issue : 2025.10.02 </div>\n",
    "<div style=\"text-align: right\"> last update : 2025.10.02 </div>"
   ]
  },
  {
   "cell_type": "markdown",
   "id": "c33149ca",
   "metadata": {},
   "source": [
    "개정 이력  \n",
    "- `2025.10.02` : 노트북 "
   ]
  },
  {
   "cell_type": "code",
   "execution_count": 1,
   "id": "d65f19f2",
   "metadata": {},
   "outputs": [
    {
     "data": {
      "text/plain": [
       "True"
      ]
     },
     "execution_count": 1,
     "metadata": {},
     "output_type": "execute_result"
    }
   ],
   "source": [
    "import os\n",
    "from dotenv import load_dotenv\n",
    "load_dotenv()"
   ]
  },
  {
   "cell_type": "code",
   "execution_count": 2,
   "id": "aa3a71df",
   "metadata": {},
   "outputs": [],
   "source": [
    "from google.adk.agents import LlmAgent, BaseAgent\n",
    "from google.adk.agents.invocation_context import InvocationContext\n",
    "from google.adk.events import Event\n",
    "from typing import AsyncGenerator"
   ]
  },
  {
   "cell_type": "markdown",
   "id": "d004626d",
   "metadata": {},
   "source": [
    "### 1. 메인함수 구현: 계층적 에이전트 구조"
   ]
  },
  {
   "cell_type": "code",
   "execution_count": 3,
   "id": "47e75ec0",
   "metadata": {},
   "outputs": [],
   "source": [
    "class TaskExecutor(BaseAgent):\n",
    "    \"\"\"사용자 정의(비 LLM) 동작을 수행하는 특화 에이전트입니다.\"\"\"\n",
    "    name: str = \"TaskExecutor\"\n",
    "    description: str = \"미리 정의된 작업을 실행합니다.\"\n",
    "    async def _run_async_impl(self, context: InvocationContext) -> AsyncGenerator[Event, None]:\n",
    "        \"\"\"작업에 대한 사용자 정의 구현 로직입니다.\"\"\"\n",
    "        yield Event(author=self.name, content=\"작업이 성공적으로 완료되었습니다.\")\n",
    "\n",
    "greeter = LlmAgent(\n",
    "    name=\"Greeter\",\n",
    "    model=\"gemini-2.0-flash-exp\",\n",
    "    instruction=\"당신은 친절하게 인사하는 에이전트입니다.\"\n",
    ")\n",
    "\n",
    "task_doer = TaskExecutor()\n",
    "\n",
    "coordinator = LlmAgent(\n",
    "    name=\"Coordinator\",\n",
    "    model=\"gemini-2.0-flash-exp\",\n",
    "    instruction=\"당신은 Coordinator입니다. 인사는 'Greeter'에게, 작업 실행은 'TaskExecutor'에게 위임하세요.\",\n",
    "    description=\"인사 담당과 작업 실행기 에이전트 사이의 작업을 조정합니다.\",\n",
    "    sub_agents=[greeter, task_doer]\n",
    ")"
   ]
  },
  {
   "cell_type": "code",
   "execution_count": 4,
   "id": "abdad25e",
   "metadata": {},
   "outputs": [
    {
     "name": "stdout",
     "output_type": "stream",
     "text": [
      "Agent hierarchy created successfully.\n"
     ]
    }
   ],
   "source": [
    "assert greeter.parent_agent == coordinator\n",
    "assert task_doer.parent_agent == coordinator\n",
    "print(\"Agent hierarchy created successfully.\")"
   ]
  },
  {
   "cell_type": "markdown",
   "id": "a31881f7",
   "metadata": {},
   "source": [
    "### 2. 두번쨰 예제\n",
    "\n",
    "- LoopAgent를 사용하여 반복 워크플로우 구축하는 방법\n",
    "- 코드는 두 에이전트를 정의합니다: ConditionChecker와 ProcessingStep. \n",
    "- ConditionChecker는 세션 상태에서 \"status\" 값을 확인하는 커스텀 에이전트입니다. \n",
    "  - \"status\"가 \"completed\"이면 ConditionChecker는 루프를 중지하기 위해 이벤트를 에스컬레이션합니다. \n",
    "  - 그렇지 않으면 루프를 계속하기 위해 이벤트를 생성합니다. \n",
    "- ProcessingStep은 \"gemini-2.0-flash-exp\" 모델을 사용하는 LlmAgent입니다. \n",
    "- 지시사항은 작업을 수행하고 최종 단계라면 세션 \"status\"를 \"completed\"로 설정하는 것입니다. \n",
    "- 그리고 StatusPoller라는 LoopAgent가 생성됩니다. \n",
    "  - StatusPoller는 max_iterations=10으로 구성됩니다. \n",
    "  - StatusPoller는 ProcessingStep과 ConditionChecker 인스턴스를 모두 하위 에이전트로 포함합니다\n",
    "  - LoopAgent는 ConditionChecker가 status가 \"completed\"임을 발견하거나 10회 반복에 도달할 때까지 하위 에이전트를 순차적으로 실행합니다."
   ]
  },
  {
   "cell_type": "code",
   "execution_count": 5,
   "id": "97966309",
   "metadata": {},
   "outputs": [],
   "source": [
    "import asyncio\n",
    "from typing import AsyncGenerator\n",
    "from google.adk.agents import LoopAgent, LlmAgent, BaseAgent\n",
    "from google.adk.events import Event, EventActions\n",
    "from google.adk.agents.invocation_context import InvocationContext"
   ]
  },
  {
   "cell_type": "code",
   "execution_count": 6,
   "id": "a7c4c33b",
   "metadata": {},
   "outputs": [],
   "source": [
    "class ConditionChecker(BaseAgent):\n",
    "    \"\"\"A custom agent that checks for a 'completed' status in the session state.\"\"\"\n",
    "    name: str = \"ConditionChecker\"\n",
    "    description: str = \"Checks if a process is complete and signals the loop to stop.\"\n",
    "    async def _run_async_impl(self, context: InvocationContext) -> AsyncGenerator[Event, None]:\n",
    "        \"\"\"Checks state and yields an event to either continue or stop the loop.\"\"\"\n",
    "        status = context.session.state.get(\"status\", \"pending\")\n",
    "        is_done = (status == \"completed\")\n",
    "        if is_done:\n",
    "            yield Event(author=self.name, actions=EventActions(escalate=True))\n",
    "        else:\n",
    "            yield Event(author=self.name, content=\"Condition not met, continuing loop.\")"
   ]
  },
  {
   "cell_type": "code",
   "execution_count": 7,
   "id": "57ff7d47",
   "metadata": {},
   "outputs": [],
   "source": [
    "process_step = LlmAgent(\n",
    "    name=\"ProcessingStep\",\n",
    "    model=\"gemini-2.0-flash-exp\",\n",
    "    instruction=\"\"\"You are a processing agent.\n",
    "Perform a task and set the session state 'status' to 'completed' if this is the final step.\n",
    "\"\"\",\n",
    "    description=\"Performs processing tasks in a loop.\",\n",
    ")\n",
    "\n",
    "status_poller = LoopAgent(\n",
    "    name=\"StatusPoller\",\n",
    "    max_iterations=10,\n",
    "    sub_agents=[\n",
    "        process_step,\n",
    "        ConditionChecker()\n",
    "    ]\n",
    ")"
   ]
  },
  {
   "cell_type": "markdown",
   "id": "87da7317",
   "metadata": {},
   "source": [
    "### 3. 세번째: 선형 워크 플로우"
   ]
  },
  {
   "cell_type": "code",
   "execution_count": 8,
   "id": "b7485795",
   "metadata": {},
   "outputs": [],
   "source": [
    "from google.adk.agents import SequentialAgent, Agent\n",
    "\n",
    "step1 = Agent(name=\"Step1_Fetch\", output_key=\"data\")\n",
    "\n",
    "step2 = Agent(\n",
    "    name=\"Step2_Process\",\n",
    "    instruction=\"Analyze the information found in state['data'] and provide a summary.\"\n",
    ")\n",
    "\n",
    "pipeline = SequentialAgent(\n",
    "    name=\"MyPipeline\",\n",
    "    sub_agents=[step1, step2]\n",
    ")"
   ]
  },
  {
   "cell_type": "markdown",
   "id": "b0013744",
   "metadata": {},
   "source": [
    "### 4. 네번째 병렬 에이전트"
   ]
  },
  {
   "cell_type": "code",
   "execution_count": 9,
   "id": "4294a0c6",
   "metadata": {},
   "outputs": [],
   "source": [
    "from google.adk.agents import Agent, ParallelAgent\n",
    "\n",
    "weather_fetcher = Agent(\n",
    "    name=\"weather_fetcher\",\n",
    "    model=\"gemini-2.0-flash-exp\",\n",
    "    instruction=\"Fetch the weather for the given location and return only the weather report.\",\n",
    "    output_key=\"weather_data\"\n",
    ")\n",
    "\n",
    "news_fetcher = Agent(\n",
    "    name=\"news_fetcher\",\n",
    "    model=\"gemini-2.0-flash-exp\",\n",
    "    instruction=\"Fetch the top news story for the given topic and return only that story.\",\n",
    "    output_key=\"news_data\"\n",
    ")\n",
    "\n",
    "data_gatherer = ParallelAgent(\n",
    "    name=\"data_gatherer\",\n",
    "    sub_agents=[\n",
    "        weather_fetcher,\n",
    "        news_fetcher\n",
    "    ]\n",
    ")"
   ]
  },
  {
   "cell_type": "markdown",
   "id": "6e8dbafc",
   "metadata": {},
   "source": [
    "### 5. 다섯번째: 에이전트 as a tool\n",
    "- 함수 호출과 유사한 방식으로 한 에이전트가 다른 에이전트의 역량을 활용할 수 있게 합니다. \n",
    "- 구체적으로 코드는 Google의 LlmAgent와 AgentTool 클래스를 사용하여 이미지 생성 시스템을 정의합니다. \n",
    "- 이 구조는 두 에이전트로 구성됩니다: \n",
    "    - 부모 artist_agent와 하위 에이전트 image_generator_agent. \n",
    "    - generate_image 함수는 이미지 생성을 시뮬레이션하는 간단한 도구로, 모의 이미지 데이터를 반환합니다. \n",
    "    - image_generator_agent는 받은 텍스트 프롬프트를 바탕으로 이 도구를 사용할 책임이 있습니다. \n",
    "    - artist_agent의 역할은 먼저 창의적인 이미지 프롬프트를 만드는 것입니다. \n",
    "    - 그런 다음 AgentTool 래퍼를 통해 image_generator_agent를 호출합니다. \n",
    "    - AgentTool은 한 에이전트가 다른 에이전트를 도구로 사용할 수 있도록 하는 브리지 역할을 합니다. \n",
    "    - artist_agent가 image_tool을 호출하면 AgentTool은 artist가 만든 프롬프트로 image_generator_agent를 호출합니다. \n",
    "    - image_generator_agent는 해당 프롬프트로 generate_image 함수를 사용합니다. \n",
    "    \n",
    "- 최종적으로 생성된 이미지(또는 모의 데이터)가 에이전트를 통해 반환됩니다. \n",
    "- 이 아키텍처는 상위 레벨 에이전트가 하위 레벨의 전문화된 에이전트를 조율하여 작업을 수행하는 계층형 에이전트 시스템을 보여줍니다."
   ]
  },
  {
   "cell_type": "code",
   "execution_count": 10,
   "id": "a95c82dd",
   "metadata": {},
   "outputs": [],
   "source": [
    "from google.adk.agents import LlmAgent\n",
    "from google.adk.tools import agent_tool\n",
    "from google.genai import types"
   ]
  },
  {
   "cell_type": "code",
   "execution_count": 11,
   "id": "bf18a4fe",
   "metadata": {},
   "outputs": [],
   "source": [
    "def generate_image(prompt: str) -> dict:\n",
    "    \"\"\"\n",
    "    텍스트 프롬프트를 기반으로 이미지를 생성합니다.\n",
    "    인자:\n",
    "        prompt: 생성할 이미지에 대한 상세한 설명.\n",
    "    반환:\n",
    "        상태와 생성된 이미지 바이트를 포함한 딕셔너리.\n",
    "    \"\"\"\n",
    "    print(f\"TOOL: 프롬프트: '{prompt}' 에 대한 이미지 생성 중\")\n",
    "    mock_image_bytes = b\"mock_image_data_for_a_cat_wearing_a_hat\"\n",
    "    return {\n",
    "        \"status\": \"success\",\n",
    "        \"image_bytes\": mock_image_bytes,\n",
    "        \"mime_type\": \"image/png\"\n",
    "    }\n",
    "\n",
    "image_generator_agent = LlmAgent(\n",
    "    name=\"ImageGenerator\",\n",
    "    model=\"gemini-2.0-flash-exp\",\n",
    "    instruction=\"\"\"당신은 ImageGenerator입니다.\n",
    "제공된 프롬프트를 바탕으로 이미지를 만들기 위해 generate_image 도구를 사용하세요.\n",
    "\"\"\",\n",
    "    description=\"도구를 사용해 이미지를 생성합니다.\",\n",
    "    tools=[generate_image]\n",
    ")"
   ]
  },
  {
   "cell_type": "code",
   "execution_count": 12,
   "id": "b011ce2a",
   "metadata": {},
   "outputs": [],
   "source": [
    "image_tool = agent_tool.AgentTool(\n",
    "    agent=image_generator_agent,\n",
    "    # description=\"이미지를 생성할 때 사용하세요. 입력은 원하는 이미지를 설명하는 상세한 프롬프트여야 합니다.\"\n",
    ")\n",
    "\n",
    "artist_agent = LlmAgent(\n",
    "    name=\"Artist\",\n",
    "    model=\"gemini-2.0-flash-exp\",\n",
    "    instruction=\"\"\"당신은 창의적인 아티스트입니다.\n",
    "먼저, 창의적인 이미지 프롬프트를 고안하세요.\n",
    "그 다음, 도구처럼 ImageGenerator 에이전트를 사용해 이미지를 생성하세요.\n",
    "\"\"\",\n",
    "    description=\"프롬프트를 고안하고 이미지를 생성하여 작품을 만듭니다.\",\n",
    "    tools=[image_tool]\n",
    ")"
   ]
  },
  {
   "cell_type": "code",
   "execution_count": null,
   "id": "a75913be",
   "metadata": {},
   "outputs": [],
   "source": []
  }
 ],
 "metadata": {
  "kernelspec": {
   "display_name": ".venv",
   "language": "python",
   "name": "python3"
  },
  "language_info": {
   "codemirror_mode": {
    "name": "ipython",
    "version": 3
   },
   "file_extension": ".py",
   "mimetype": "text/x-python",
   "name": "python",
   "nbconvert_exporter": "python",
   "pygments_lexer": "ipython3",
   "version": "3.12.9"
  }
 },
 "nbformat": 4,
 "nbformat_minor": 5
}
